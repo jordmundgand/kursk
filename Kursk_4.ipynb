{
  "nbformat": 4,
  "nbformat_minor": 0,
  "metadata": {
    "colab": {
      "name": "Kursk_4.ipynb",
      "provenance": [],
      "collapsed_sections": [
        "efzH-CDTzFIj"
      ]
    },
    "kernelspec": {
      "name": "python3",
      "display_name": "Python 3"
    },
    "language_info": {
      "name": "python"
    },
    "gpuClass": "standard"
  },
  "cells": [
    {
      "cell_type": "markdown",
      "source": [
        "# Инициализация"
      ],
      "metadata": {
        "id": "SjE0XImO2Fv_"
      }
    },
    {
      "cell_type": "code",
      "source": [
        "!pip install pymorphy2"
      ],
      "metadata": {
        "colab": {
          "base_uri": "https://localhost:8080/"
        },
        "id": "NJ-OuPYN_msv",
        "outputId": "f84ab813-a421-408e-bf67-6c3029df61b4"
      },
      "execution_count": 1,
      "outputs": [
        {
          "output_type": "stream",
          "name": "stdout",
          "text": [
            "Looking in indexes: https://pypi.org/simple, https://us-python.pkg.dev/colab-wheels/public/simple/\n",
            "Collecting pymorphy2\n",
            "  Downloading pymorphy2-0.9.1-py3-none-any.whl (55 kB)\n",
            "\u001b[K     |████████████████████████████████| 55 kB 3.4 MB/s \n",
            "\u001b[?25hCollecting pymorphy2-dicts-ru<3.0,>=2.4\n",
            "  Downloading pymorphy2_dicts_ru-2.4.417127.4579844-py2.py3-none-any.whl (8.2 MB)\n",
            "\u001b[K     |████████████████████████████████| 8.2 MB 24.5 MB/s \n",
            "\u001b[?25hRequirement already satisfied: docopt>=0.6 in /usr/local/lib/python3.7/dist-packages (from pymorphy2) (0.6.2)\n",
            "Collecting dawg-python>=0.7.1\n",
            "  Downloading DAWG_Python-0.7.2-py2.py3-none-any.whl (11 kB)\n",
            "Installing collected packages: pymorphy2-dicts-ru, dawg-python, pymorphy2\n",
            "Successfully installed dawg-python-0.7.2 pymorphy2-0.9.1 pymorphy2-dicts-ru-2.4.417127.4579844\n"
          ]
        }
      ]
    },
    {
      "cell_type": "code",
      "execution_count": 2,
      "metadata": {
        "colab": {
          "base_uri": "https://localhost:8080/"
        },
        "id": "nbs2tfj_ZRTB",
        "outputId": "ce88b461-dbcd-4cb1-f3ae-a0f4d44acfab"
      },
      "outputs": [
        {
          "output_type": "stream",
          "name": "stdout",
          "text": [
            "Mounted at /content/drive\n"
          ]
        }
      ],
      "source": [
        "import pandas as pd\n",
        "import seaborn as sns\n",
        "import matplotlib.pyplot as plt\n",
        "from sklearn.model_selection import train_test_split\n",
        "from sklearn.ensemble import RandomForestClassifier\n",
        "from google.colab import drive\n",
        "drive.mount('/content/drive')\n",
        "import re \n",
        "import seaborn as sns\n",
        "import matplotlib.pyplot as plt\n",
        "import numpy as np\n",
        "from sklearn.feature_extraction.text import TfidfTransformer, CountVectorizer, TfidfVectorizer\n",
        "from sklearn.linear_model import LinearRegression, LogisticRegression, SGDClassifier, RidgeClassifier, LogisticRegressionCV, Ridge\n",
        "from sklearn.kernel_ridge import KernelRidge\n",
        "from sklearn.multioutput import MultiOutputRegressor\n",
        "from sklearn.ensemble import ExtraTreesRegressor,ExtraTreesClassifier,RandomForestClassifier,VotingClassifier,StackingRegressor,StackingClassifier,GradientBoostingRegressor\n",
        "from sklearn.tree import DecisionTreeRegressor,DecisionTreeClassifier\n",
        "from sklearn.svm import LinearSVC,LinearSVR\n",
        "from sklearn.decomposition import TruncatedSVD\n",
        "from sklearn.decomposition import PCA,NMF\n",
        "from sklearn.preprocessing import RobustScaler\n",
        "from sklearn.preprocessing import PolynomialFeatures\n",
        "from sklearn.preprocessing import KBinsDiscretizer\n",
        "from sklearn.model_selection import cross_val_score\n",
        "from sklearn.pipeline import Pipeline,FeatureUnion\n",
        "from sklearn.ensemble import VotingClassifier\n",
        "from sklearn.naive_bayes import GaussianNB\n",
        "from sklearn.neighbors import KNeighborsClassifier,KNeighborsRegressor\n",
        "from sklearn.linear_model import PassiveAggressiveClassifier\n",
        "from sklearn.model_selection import train_test_split,ShuffleSplit,StratifiedShuffleSplit\n",
        "from sklearn.metrics import accuracy_score\n",
        "from sklearn.compose import ColumnTransformer\n",
        "from sklearn.preprocessing import OneHotEncoder,OrdinalEncoder,LabelEncoder\n",
        "from sklearn.impute import KNNImputer,SimpleImputer\n",
        "from sklearn.metrics import roc_auc_score\n",
        "from sklearn.preprocessing import StandardScaler\n",
        "from sklearn.model_selection import GridSearchCV\n",
        "from sklearn.feature_selection import SelectFromModel,VarianceThreshold,SelectKBest,chi2\n",
        "from sklearn.pipeline import TransformerMixin\n",
        "from sklearn.neighbors import LocalOutlierFactor\n",
        "from sklearn.ensemble import GradientBoostingClassifier\n",
        "from sklearn.ensemble import RandomForestRegressor\n",
        "from sklearn.svm import SVR,SVC\n",
        "from sklearn.metrics import mean_absolute_error,roc_auc_score\n",
        "from sklearn.ensemble import StackingRegressor\n",
        "from sklearn.feature_selection import SelectFromModel\n",
        "from sklearn.multioutput import MultiOutputRegressor\n",
        "from sklearn.dummy import DummyRegressor,DummyClassifier\n",
        "from sklearn.manifold import TSNE\n",
        "from sklearn.naive_bayes import GaussianNB,CategoricalNB,MultinomialNB\n",
        "from sklearn import set_config\n",
        "from scipy.special import softmax"
      ]
    },
    {
      "cell_type": "markdown",
      "source": [
        "# Загрузка"
      ],
      "metadata": {
        "id": "AEjRLOuUMaX8"
      }
    },
    {
      "cell_type": "code",
      "source": [
        "train=pd.read_csv(\"/content/drive/MyDrive/Kursk/train_dataset_train.csv\")\n",
        "test=pd.read_csv(\"/content/drive/MyDrive/Kursk/test_dataset_test.csv\")"
      ],
      "metadata": {
        "id": "iNGurAzFbKYU"
      },
      "execution_count": 3,
      "outputs": []
    },
    {
      "cell_type": "code",
      "source": [
        "train['text']=list(map(lambda x: re.sub(r'\\<[^>]*\\>', ' ', x), train['Текст Сообщения'].tolist()))\n",
        "train['text2']=train['text'].str.replace('&nbsp;',' ').str.replace('\\n',' ').str.strip()\n",
        "train['text5']=train['text'].str.replace('&nbsp;',' ').str.replace('\\n',' ')"
      ],
      "metadata": {
        "id": "vI9sDvQSwYtJ"
      },
      "execution_count": 4,
      "outputs": []
    },
    {
      "cell_type": "code",
      "source": [
        "test['text']=list(map(lambda x: re.sub(r'\\<[^>]*\\>', ' ', x), test['Текст Сообщения'].tolist()))\n",
        "test['text2']=test['text'].str.replace('&nbsp;',' ').str.replace('\\n',' ').str.strip()\n",
        "test['text5']=test['text'].str.replace('&nbsp;',' ').str.replace('\\n',' ')"
      ],
      "metadata": {
        "id": "ptu_H3YxnazI"
      },
      "execution_count": 5,
      "outputs": []
    },
    {
      "cell_type": "code",
      "source": [
        "import pymorphy2\n",
        "morph = pymorphy2.MorphAnalyzer()\n",
        "\n",
        "def lemmatize(text):\n",
        "    words = text.split() # разбиваем текст на слова\n",
        "    res = list()\n",
        "    for word in words:\n",
        "        p = morph.parse(word)[0]\n",
        "        res.append(p.normal_form)\n",
        "\n",
        "    return ' '.join(res)"
      ],
      "metadata": {
        "id": "EzusIRqoVblC"
      },
      "execution_count": 6,
      "outputs": []
    },
    {
      "cell_type": "code",
      "source": [
        "train['text5_l']=list(map(lemmatize, train['text5'].tolist()))\n",
        "test['text5_l']=list(map(lemmatize, test['text5'].tolist()))"
      ],
      "metadata": {
        "id": "KE2Nz9PM_zcI"
      },
      "execution_count": 7,
      "outputs": []
    },
    {
      "cell_type": "code",
      "source": [
        "tdic=dict(zip(train['Категория'].astype('str').groupby(train['Тематика']).describe().index.tolist(),\n",
        "train['Категория'].astype('str').groupby(train['Тематика']).describe().top.tolist()))\n",
        "\n",
        "tdic['Неудовлетворительное материально-техническое обеспечение учреждения дополнительного образования']='7'\n",
        "tdic['Необходимо строительство детской (спортивной) площадки в районе частного сектора']='3'\n",
        "tdic['Дорожная разметка на дорогах регионального и межмуниципального значения']='0'\n",
        "tdic['Несоответствие ценника цене товара']='13'\n",
        "tdic['Несправедливое распределение мест в дошкольные учреждения']='7'\n",
        "tdic['Отсутствие в населённом пункте сотовой связи']='9'\n",
        "tdic['Плохое материально-техническое оснащение учреждений культуры и библиотек']='3'\n",
        "tdic['Очистка  от снега и наледи  дорог в микрорайонах ИЖС']='0'\n",
        "tdic['Меры поддержки в условиях неблагоприятной эпидемиологической ситуации в сфере занятости населения для частных лиц']='6'\n",
        "tdic['Меры поддержки в условиях неблагоприятной эпидемиологической ситуации в сфере ЖКХ']='6'\n",
        "tdic['Проблемы с обеспечением питанием в школах']='7'\n",
        "tdic['Отсутствие твёрдого дорожного покрытия на дорогах регионального и межмуниципального значения']='0'"
      ],
      "metadata": {
        "id": "p3lmYVk16fIY"
      },
      "execution_count": 9,
      "outputs": []
    },
    {
      "cell_type": "code",
      "source": [
        "test['Категория t']=list(map(lambda x: int(tdic[x]),test['Тематика'].tolist()))"
      ],
      "metadata": {
        "id": "qSZlE7iZ7ZO8"
      },
      "execution_count": 10,
      "outputs": []
    },
    {
      "cell_type": "markdown",
      "source": [
        "# Модели"
      ],
      "metadata": {
        "id": "efzH-CDTzFIj"
      }
    },
    {
      "cell_type": "code",
      "source": [
        "train.columns"
      ],
      "metadata": {
        "colab": {
          "base_uri": "https://localhost:8080/"
        },
        "id": "sNe-famxzeR0",
        "outputId": "1d9a31a4-7851-4e16-faed-607aab7b060c"
      },
      "execution_count": null,
      "outputs": [
        {
          "output_type": "execute_result",
          "data": {
            "text/plain": [
              "Index(['id', 'Текст Сообщения', 'Тематика', 'Ответственное лицо', 'Категория',\n",
              "       'text', 'text2', 'text3', 'text4', 'text5', 'text6', 'text5_l'],\n",
              "      dtype='object')"
            ]
          },
          "metadata": {},
          "execution_count": 67
        }
      ]
    },
    {
      "cell_type": "code",
      "source": [
        "plt.scatter(train['Категория'],train['text5'].str.split(' ').str.len(),alpha=0.1)"
      ],
      "metadata": {
        "colab": {
          "base_uri": "https://localhost:8080/",
          "height": 283
        },
        "id": "o4nf61TIN9po",
        "outputId": "723ab011-77e0-4162-c3cb-caf87b2bf90d"
      },
      "execution_count": null,
      "outputs": [
        {
          "output_type": "execute_result",
          "data": {
            "text/plain": [
              "<matplotlib.collections.PathCollection at 0x7f3ef2b15350>"
            ]
          },
          "metadata": {},
          "execution_count": 94
        },
        {
          "output_type": "display_data",
          "data": {
            "text/plain": [
              "<Figure size 432x288 with 1 Axes>"
            ],
            "image/png": "[encoded data removed]"
          },
          "metadata": {
            "needs_background": "light"
          }
        }
      ]
    },
    {
      "cell_type": "code",
      "source": [
        "est=cross_val_score(DecisionTreeClassifier(max_depth=4,class_weight='balanced'),\n",
        "                    train['text5'].str.split(' ').str.len().values.reshape((len(train),1)),train['Категория'])\n",
        "print(est.mean())\n",
        "print(est.std())"
      ],
      "metadata": {
        "colab": {
          "base_uri": "https://localhost:8080/"
        },
        "id": "I3nLKENIMexz",
        "outputId": "80a17a4c-07cc-4325-9b8a-1172c7d5887f"
      },
      "execution_count": null,
      "outputs": [
        {
          "output_type": "stream",
          "name": "stdout",
          "text": [
            "0.047\n",
            "0.012489995996796798\n"
          ]
        },
        {
          "output_type": "stream",
          "name": "stderr",
          "text": [
            "/usr/local/lib/python3.7/dist-packages/sklearn/model_selection/_split.py:680: UserWarning: The least populated class in y has only 1 members, which is less than n_splits=5.\n",
            "  UserWarning,\n"
          ]
        }
      ]
    },
    {
      "cell_type": "code",
      "source": [
        "for cnt in ['Текст Сообщения', 'text', 'text2']:\n",
        "  pipe=Pipeline([('input',ColumnTransformer([\n",
        "               ('text1',CountVectorizer(ngram_range=(1, 7),analyzer='char_wb',max_df=0.5,min_df=1),cnt),               ])),\n",
        "               ('transformer',TfidfTransformer()),\n",
        "               ('classifier',LinearSVC(C=1.0,class_weight='balanced'))])\n",
        "  est=cross_val_score(pipe,train,train['Категория'])\n",
        "  print(cnt,'>>>')\n",
        "  print(est.mean())\n",
        "  print(est.std())"
      ],
      "metadata": {
        "colab": {
          "base_uri": "https://localhost:8080/"
        },
        "id": "N66Te3-dzKx5",
        "outputId": "ce53af5c-373a-470b-ad68-eeecc8267e5e"
      },
      "execution_count": null,
      "outputs": [
        {
          "output_type": "stream",
          "name": "stderr",
          "text": [
            "/usr/local/lib/python3.7/dist-packages/sklearn/model_selection/_split.py:680: UserWarning: The least populated class in y has only 1 members, which is less than n_splits=5.\n",
            "  UserWarning,\n"
          ]
        },
        {
          "output_type": "stream",
          "name": "stdout",
          "text": [
            "Текст Сообщения >>>\n",
            "0.8089999999999999\n",
            "0.009300537618869117\n"
          ]
        },
        {
          "output_type": "stream",
          "name": "stderr",
          "text": [
            "/usr/local/lib/python3.7/dist-packages/sklearn/model_selection/_split.py:680: UserWarning: The least populated class in y has only 1 members, which is less than n_splits=5.\n",
            "  UserWarning,\n"
          ]
        },
        {
          "output_type": "stream",
          "name": "stdout",
          "text": [
            "text >>>\n",
            "0.8135\n",
            "0.008455767262643863\n"
          ]
        },
        {
          "output_type": "stream",
          "name": "stderr",
          "text": [
            "/usr/local/lib/python3.7/dist-packages/sklearn/model_selection/_split.py:680: UserWarning: The least populated class in y has only 1 members, which is less than n_splits=5.\n",
            "  UserWarning,\n"
          ]
        },
        {
          "output_type": "stream",
          "name": "stdout",
          "text": [
            "text2 >>>\n",
            "0.8135\n",
            "0.009949874371066175\n"
          ]
        }
      ]
    },
    {
      "cell_type": "code",
      "source": [
        "for cnt in ['Текст Сообщения', 'text', 'text4']:\n",
        "  pipe=Pipeline([('input',ColumnTransformer([\n",
        "               ('text1',CountVectorizer(ngram_range=(1, 7),analyzer='char_wb',max_df=0.5,min_df=1),cnt),               ])),\n",
        "               ('transformer',TfidfTransformer()),\n",
        "               ('classifier',LinearSVC(C=1.0,class_weight='balanced'))])\n",
        "  est=cross_val_score(pipe,train,train['Категория'])\n",
        "  print(cnt,'>>>')\n",
        "  print(est.mean())\n",
        "  print(est.std())"
      ],
      "metadata": {
        "colab": {
          "base_uri": "https://localhost:8080/"
        },
        "id": "McfvW_4A1nMV",
        "outputId": "acf2426b-5429-4e3d-a44e-da316d0803b3"
      },
      "execution_count": null,
      "outputs": [
        {
          "output_type": "stream",
          "name": "stderr",
          "text": [
            "/usr/local/lib/python3.7/dist-packages/sklearn/model_selection/_split.py:680: UserWarning: The least populated class in y has only 1 members, which is less than n_splits=5.\n",
            "  UserWarning,\n"
          ]
        },
        {
          "output_type": "stream",
          "name": "stdout",
          "text": [
            "Текст Сообщения >>>\n",
            "0.8089999999999999\n",
            "0.009300537618869117\n"
          ]
        },
        {
          "output_type": "stream",
          "name": "stderr",
          "text": [
            "/usr/local/lib/python3.7/dist-packages/sklearn/model_selection/_split.py:680: UserWarning: The least populated class in y has only 1 members, which is less than n_splits=5.\n",
            "  UserWarning,\n"
          ]
        },
        {
          "output_type": "stream",
          "name": "stdout",
          "text": [
            "text >>>\n",
            "0.8145\n",
            "0.006964194138592041\n"
          ]
        },
        {
          "output_type": "stream",
          "name": "stderr",
          "text": [
            "/usr/local/lib/python3.7/dist-packages/sklearn/model_selection/_split.py:680: UserWarning: The least populated class in y has only 1 members, which is less than n_splits=5.\n",
            "  UserWarning,\n"
          ]
        },
        {
          "output_type": "stream",
          "name": "stdout",
          "text": [
            "text4 >>>\n",
            "0.8140000000000001\n",
            "0.009165151389911677\n"
          ]
        }
      ]
    },
    {
      "cell_type": "code",
      "source": [
        "for cnt in ['Текст Сообщения', 'text', 'text2']:\n",
        "  pipe=Pipeline([('input',ColumnTransformer([\n",
        "               ('text1',CountVectorizer(ngram_range=(1, 6),analyzer='char_wb',max_df=0.5,min_df=1),cnt),               ])),\n",
        "               ('transformer',TfidfTransformer()),\n",
        "               ('classifier',LinearSVC(C=1.0,class_weight='balanced'))])\n",
        "  est=cross_val_score(pipe,train,train['Категория'])\n",
        "  print(cnt,'>>>')\n",
        "  print(est.mean())\n",
        "  print(est.std())"
      ],
      "metadata": {
        "colab": {
          "base_uri": "https://localhost:8080/"
        },
        "id": "uG2sCpLpzLGr",
        "outputId": "77e7158c-23ce-498f-cf5b-bc2e6633fd9a"
      },
      "execution_count": null,
      "outputs": [
        {
          "output_type": "stream",
          "name": "stderr",
          "text": [
            "/usr/local/lib/python3.7/dist-packages/sklearn/model_selection/_split.py:680: UserWarning: The least populated class in y has only 1 members, which is less than n_splits=5.\n",
            "  UserWarning,\n"
          ]
        },
        {
          "output_type": "stream",
          "name": "stdout",
          "text": [
            "Текст Сообщения >>>\n",
            "0.8074999999999999\n",
            "0.01140175425099139\n"
          ]
        },
        {
          "output_type": "stream",
          "name": "stderr",
          "text": [
            "/usr/local/lib/python3.7/dist-packages/sklearn/model_selection/_split.py:680: UserWarning: The least populated class in y has only 1 members, which is less than n_splits=5.\n",
            "  UserWarning,\n"
          ]
        },
        {
          "output_type": "stream",
          "name": "stdout",
          "text": [
            "text >>>\n",
            "0.812\n",
            "0.011445523142259604\n"
          ]
        },
        {
          "output_type": "stream",
          "name": "stderr",
          "text": [
            "/usr/local/lib/python3.7/dist-packages/sklearn/model_selection/_split.py:680: UserWarning: The least populated class in y has only 1 members, which is less than n_splits=5.\n",
            "  UserWarning,\n"
          ]
        },
        {
          "output_type": "stream",
          "name": "stdout",
          "text": [
            "text2 >>>\n",
            "0.8105\n",
            "0.009924716620639606\n"
          ]
        }
      ]
    },
    {
      "cell_type": "code",
      "source": [
        "for cnt in ['Текст Сообщения', 'text', 'text2']:\n",
        "  pipe=Pipeline([('input',ColumnTransformer([\n",
        "               ('text1',CountVectorizer(ngram_range=(1, 7),analyzer='char_wb',max_df=0.5,min_df=2),cnt),               ])),\n",
        "               ('transformer',TfidfTransformer()),\n",
        "               ('classifier',LinearSVC(C=1.0,class_weight='balanced'))])\n",
        "  est=cross_val_score(pipe,train,train['Категория'])\n",
        "  print(cnt,'>>>')\n",
        "  print(est.mean())\n",
        "  print(est.std())"
      ],
      "metadata": {
        "colab": {
          "base_uri": "https://localhost:8080/"
        },
        "id": "FLoY5z1O0dva",
        "outputId": "68df087f-3bdf-49b3-ac83-fb218719706b"
      },
      "execution_count": null,
      "outputs": [
        {
          "output_type": "stream",
          "name": "stderr",
          "text": [
            "/usr/local/lib/python3.7/dist-packages/sklearn/model_selection/_split.py:680: UserWarning: The least populated class in y has only 1 members, which is less than n_splits=5.\n",
            "  UserWarning,\n"
          ]
        },
        {
          "output_type": "stream",
          "name": "stdout",
          "text": [
            "Текст Сообщения >>>\n",
            "0.805\n",
            "0.007905694150420927\n"
          ]
        },
        {
          "output_type": "stream",
          "name": "stderr",
          "text": [
            "/usr/local/lib/python3.7/dist-packages/sklearn/model_selection/_split.py:680: UserWarning: The least populated class in y has only 1 members, which is less than n_splits=5.\n",
            "  UserWarning,\n"
          ]
        },
        {
          "output_type": "stream",
          "name": "stdout",
          "text": [
            "text >>>\n",
            "0.8125\n",
            "0.009082951062292472\n"
          ]
        },
        {
          "output_type": "stream",
          "name": "stderr",
          "text": [
            "/usr/local/lib/python3.7/dist-packages/sklearn/model_selection/_split.py:680: UserWarning: The least populated class in y has only 1 members, which is less than n_splits=5.\n",
            "  UserWarning,\n"
          ]
        },
        {
          "output_type": "stream",
          "name": "stdout",
          "text": [
            "text2 >>>\n",
            "0.8130000000000001\n",
            "0.01238951169336385\n"
          ]
        }
      ]
    },
    {
      "cell_type": "code",
      "source": [
        "for cnt in ['text', 'text2']:\n",
        "  pipe=Pipeline([('input',ColumnTransformer([\n",
        "               ('text1',CountVectorizer(ngram_range=(1, 7),analyzer='char_wb',max_df=0.5,min_df=2),cnt),               ])),\n",
        "               ('transformer',TfidfTransformer()),\n",
        "               ('classifier',LinearSVC(C=1.0,class_weight='balanced'))])\n",
        "  est=cross_val_score(pipe,train,train['Категория'])\n",
        "  print(cnt,'>>>')\n",
        "  print(est.mean())\n",
        "  print(est.std())"
      ],
      "metadata": {
        "colab": {
          "base_uri": "https://localhost:8080/"
        },
        "id": "OZ3fgXco2Is0",
        "outputId": "dc62718e-0dd1-45d7-bd28-c4b607f97160"
      },
      "execution_count": null,
      "outputs": [
        {
          "output_type": "stream",
          "name": "stderr",
          "text": [
            "/usr/local/lib/python3.7/dist-packages/sklearn/model_selection/_split.py:680: UserWarning: The least populated class in y has only 1 members, which is less than n_splits=5.\n",
            "  UserWarning,\n"
          ]
        },
        {
          "output_type": "stream",
          "name": "stdout",
          "text": [
            "text >>>\n",
            "0.8125\n",
            "0.008514693182963195\n"
          ]
        },
        {
          "output_type": "stream",
          "name": "stderr",
          "text": [
            "/usr/local/lib/python3.7/dist-packages/sklearn/model_selection/_split.py:680: UserWarning: The least populated class in y has only 1 members, which is less than n_splits=5.\n",
            "  UserWarning,\n"
          ]
        },
        {
          "output_type": "stream",
          "name": "stdout",
          "text": [
            "text2 >>>\n",
            "0.8135\n",
            "0.01280624847486567\n"
          ]
        }
      ]
    },
    {
      "cell_type": "code",
      "source": [
        "for cnt in ['text', 'text2']:\n",
        "  pipe=Pipeline([('input',ColumnTransformer([\n",
        "               ('text1',CountVectorizer(ngram_range=(1, 8),analyzer='char_wb',max_df=0.5,min_df=2),cnt),               ])),\n",
        "               ('transformer',TfidfTransformer()),\n",
        "               ('classifier',LinearSVC(C=1.0,class_weight='balanced'))])\n",
        "  est=cross_val_score(pipe,train,train['Категория'])\n",
        "  print(cnt,'>>>')\n",
        "  print(est.mean())\n",
        "  print(est.std())"
      ],
      "metadata": {
        "colab": {
          "base_uri": "https://localhost:8080/"
        },
        "id": "aLUIrkAy2c5c",
        "outputId": "bce7045f-1a1e-4476-daf0-fb9212bf8fb9"
      },
      "execution_count": null,
      "outputs": [
        {
          "output_type": "stream",
          "name": "stderr",
          "text": [
            "/usr/local/lib/python3.7/dist-packages/sklearn/model_selection/_split.py:680: UserWarning: The least populated class in y has only 1 members, which is less than n_splits=5.\n",
            "  UserWarning,\n"
          ]
        },
        {
          "output_type": "stream",
          "name": "stdout",
          "text": [
            "text >>>\n",
            "0.8150000000000001\n",
            "0.00851469318296317\n"
          ]
        },
        {
          "output_type": "stream",
          "name": "stderr",
          "text": [
            "/usr/local/lib/python3.7/dist-packages/sklearn/model_selection/_split.py:680: UserWarning: The least populated class in y has only 1 members, which is less than n_splits=5.\n",
            "  UserWarning,\n"
          ]
        },
        {
          "output_type": "stream",
          "name": "stdout",
          "text": [
            "text2 >>>\n",
            "0.8139999999999998\n",
            "0.012103718436910176\n"
          ]
        }
      ]
    },
    {
      "cell_type": "code",
      "source": [
        ""
      ],
      "metadata": {
        "id": "OeRgnTy52rov"
      },
      "execution_count": null,
      "outputs": []
    },
    {
      "cell_type": "code",
      "source": [
        "for cnt in ['text', 'text2']:\n",
        "  pipe=Pipeline([('input',ColumnTransformer([\n",
        "               ('text1',CountVectorizer(ngram_range=(1, 8),analyzer='char',max_df=0.5,min_df=2),cnt),               ])),\n",
        "               ('transformer',TfidfTransformer()),\n",
        "               ('classifier',LinearSVC(C=1.0,class_weight='balanced'))])\n",
        "  est=cross_val_score(pipe,train,train['Категория'])\n",
        "  print(cnt,'>>>')\n",
        "  print(est.mean())\n",
        "  print(est.std())"
      ],
      "metadata": {
        "colab": {
          "base_uri": "https://localhost:8080/"
        },
        "id": "zDKKRS6U2jBR",
        "outputId": "5d512c19-efff-41bd-d1af-a7004086dc2c"
      },
      "execution_count": null,
      "outputs": [
        {
          "output_type": "stream",
          "name": "stderr",
          "text": [
            "/usr/local/lib/python3.7/dist-packages/sklearn/model_selection/_split.py:680: UserWarning: The least populated class in y has only 1 members, which is less than n_splits=5.\n",
            "  UserWarning,\n"
          ]
        },
        {
          "output_type": "stream",
          "name": "stdout",
          "text": [
            "text >>>\n",
            "0.817\n",
            "0.01004987562112089\n"
          ]
        },
        {
          "output_type": "stream",
          "name": "stderr",
          "text": [
            "/usr/local/lib/python3.7/dist-packages/sklearn/model_selection/_split.py:680: UserWarning: The least populated class in y has only 1 members, which is less than n_splits=5.\n",
            "  UserWarning,\n"
          ]
        },
        {
          "output_type": "stream",
          "name": "stdout",
          "text": [
            "text2 >>>\n",
            "0.8150000000000001\n",
            "0.009486832980505129\n"
          ]
        }
      ]
    },
    {
      "cell_type": "code",
      "source": [
        "for cnt in ['text', 'text2']:\n",
        "  pipe=Pipeline([('input',ColumnTransformer([\n",
        "               ('text1',CountVectorizer(ngram_range=(1, 8),analyzer='char',max_df=0.5,min_df=1),cnt),               ])),\n",
        "               ('transformer',TfidfTransformer()),\n",
        "               ('classifier',LinearSVC(C=1.0,class_weight='balanced'))])\n",
        "  est=cross_val_score(pipe,train,train['Категория'])\n",
        "  print(cnt,'>>>')\n",
        "  print(est.mean())\n",
        "  print(est.std())"
      ],
      "metadata": {
        "colab": {
          "base_uri": "https://localhost:8080/"
        },
        "id": "rjwntRS13JTn",
        "outputId": "61636c46-8777-46b5-86a6-ee078ea3334c"
      },
      "execution_count": null,
      "outputs": [
        {
          "output_type": "stream",
          "name": "stderr",
          "text": [
            "/usr/local/lib/python3.7/dist-packages/sklearn/model_selection/_split.py:680: UserWarning: The least populated class in y has only 1 members, which is less than n_splits=5.\n",
            "  UserWarning,\n"
          ]
        },
        {
          "output_type": "stream",
          "name": "stdout",
          "text": [
            "text >>>\n",
            "0.8160000000000001\n",
            "0.007348469228349541\n"
          ]
        },
        {
          "output_type": "stream",
          "name": "stderr",
          "text": [
            "/usr/local/lib/python3.7/dist-packages/sklearn/model_selection/_split.py:680: UserWarning: The least populated class in y has only 1 members, which is less than n_splits=5.\n",
            "  UserWarning,\n"
          ]
        },
        {
          "output_type": "stream",
          "name": "stdout",
          "text": [
            "text2 >>>\n",
            "0.8135\n",
            "0.00815475321515004\n"
          ]
        }
      ]
    },
    {
      "cell_type": "code",
      "source": [
        "for cnt in ['text', 'text2']:\n",
        "  pipe=Pipeline([('input',ColumnTransformer([\n",
        "               ('text1',CountVectorizer(ngram_range=(1, 8),analyzer='char_wb',max_df=0.5,min_df=1),cnt),\n",
        "               ('text2',CountVectorizer(ngram_range=(1, 8),analyzer='char',max_df=0.5,min_df=1),cnt)               \n",
        "               ])),\n",
        "               ('transformer',TfidfTransformer()),\n",
        "               ('classifier',LinearSVC(C=1.0,class_weight='balanced'))])\n",
        "  est=cross_val_score(pipe,train,train['Категория'])\n",
        "  print(cnt,'>>>')\n",
        "  print(est.mean())\n",
        "  print(est.std())"
      ],
      "metadata": {
        "colab": {
          "base_uri": "https://localhost:8080/"
        },
        "id": "YiWzKtCY3nn3",
        "outputId": "4a82b9da-7688-4d25-86cb-9a265bc28a80"
      },
      "execution_count": null,
      "outputs": [
        {
          "output_type": "stream",
          "name": "stderr",
          "text": [
            "/usr/local/lib/python3.7/dist-packages/sklearn/model_selection/_split.py:680: UserWarning: The least populated class in y has only 1 members, which is less than n_splits=5.\n",
            "  UserWarning,\n"
          ]
        },
        {
          "output_type": "stream",
          "name": "stdout",
          "text": [
            "text >>>\n",
            "0.8184999999999999\n",
            "0.006442049363362564\n"
          ]
        },
        {
          "output_type": "stream",
          "name": "stderr",
          "text": [
            "/usr/local/lib/python3.7/dist-packages/sklearn/model_selection/_split.py:680: UserWarning: The least populated class in y has only 1 members, which is less than n_splits=5.\n",
            "  UserWarning,\n"
          ]
        },
        {
          "output_type": "stream",
          "name": "stdout",
          "text": [
            "text2 >>>\n",
            "0.8145\n",
            "0.012389511693363853\n"
          ]
        }
      ]
    },
    {
      "cell_type": "code",
      "source": [
        "for cnt in ['Текст Сообщения','text', 'text2']:\n",
        "  pipe=Pipeline([('input',ColumnTransformer([\n",
        "               ('text1',CountVectorizer(ngram_range=(1, 2),analyzer='word',max_df=0.5,min_df=2),cnt),               ])),\n",
        "               ('transformer',TfidfTransformer()),\n",
        "               ('classifier',LinearSVC(C=1.0,class_weight='balanced'))])\n",
        "  est=cross_val_score(pipe,train,train['Категория'])\n",
        "  print(cnt,'>>>')\n",
        "  print(est.mean())\n",
        "  print(est.std())"
      ],
      "metadata": {
        "colab": {
          "base_uri": "https://localhost:8080/"
        },
        "id": "ytmdbUwH4hub",
        "outputId": "b2325aeb-f734-444b-eb1d-d27b5057968f"
      },
      "execution_count": null,
      "outputs": [
        {
          "output_type": "stream",
          "name": "stderr",
          "text": [
            "/usr/local/lib/python3.7/dist-packages/sklearn/model_selection/_split.py:680: UserWarning: The least populated class in y has only 1 members, which is less than n_splits=5.\n",
            "  UserWarning,\n"
          ]
        },
        {
          "output_type": "stream",
          "name": "stdout",
          "text": [
            "Текст Сообщения >>>\n",
            "0.7769999999999999\n",
            "0.019326148090087696\n"
          ]
        },
        {
          "output_type": "stream",
          "name": "stderr",
          "text": [
            "/usr/local/lib/python3.7/dist-packages/sklearn/model_selection/_split.py:680: UserWarning: The least populated class in y has only 1 members, which is less than n_splits=5.\n",
            "  UserWarning,\n"
          ]
        },
        {
          "output_type": "stream",
          "name": "stdout",
          "text": [
            "text >>>\n",
            "0.7885\n",
            "0.023430749027719973\n"
          ]
        },
        {
          "output_type": "stream",
          "name": "stderr",
          "text": [
            "/usr/local/lib/python3.7/dist-packages/sklearn/model_selection/_split.py:680: UserWarning: The least populated class in y has only 1 members, which is less than n_splits=5.\n",
            "  UserWarning,\n"
          ]
        },
        {
          "output_type": "stream",
          "name": "stdout",
          "text": [
            "text2 >>>\n",
            "0.7905\n",
            "0.02293468988235941\n"
          ]
        }
      ]
    },
    {
      "cell_type": "code",
      "source": [
        "for cnt in ['Текст Сообщения','text', 'text2','text5_l']:\n",
        "  pipe=Pipeline([('input',ColumnTransformer([\n",
        "               ('text1',CountVectorizer(ngram_range=(1, 1),analyzer='word',max_df=0.5,min_df=2),cnt),               ])),\n",
        "               ('transformer',TfidfTransformer()),\n",
        "               ('classifier',LinearSVC(C=1.0,class_weight='balanced'))])\n",
        "  est=cross_val_score(pipe,train,train['Категория'])\n",
        "  print(cnt,'>>>')\n",
        "  print(est.mean())\n",
        "  print(est.std())"
      ],
      "metadata": {
        "colab": {
          "base_uri": "https://localhost:8080/"
        },
        "id": "N0pjWIvKJtSr",
        "outputId": "ece55fd5-0b73-4354-ff2d-bcd991affc75"
      },
      "execution_count": null,
      "outputs": [
        {
          "output_type": "stream",
          "name": "stderr",
          "text": [
            "/usr/local/lib/python3.7/dist-packages/sklearn/model_selection/_split.py:680: UserWarning: The least populated class in y has only 1 members, which is less than n_splits=5.\n",
            "  UserWarning,\n"
          ]
        },
        {
          "output_type": "stream",
          "name": "stdout",
          "text": [
            "Текст Сообщения >>>\n",
            "0.7895\n",
            "0.024259018941416417\n"
          ]
        },
        {
          "output_type": "stream",
          "name": "stderr",
          "text": [
            "/usr/local/lib/python3.7/dist-packages/sklearn/model_selection/_split.py:680: UserWarning: The least populated class in y has only 1 members, which is less than n_splits=5.\n",
            "  UserWarning,\n"
          ]
        },
        {
          "output_type": "stream",
          "name": "stdout",
          "text": [
            "text >>>\n",
            "0.795\n",
            "0.021679483388678804\n"
          ]
        },
        {
          "output_type": "stream",
          "name": "stderr",
          "text": [
            "/usr/local/lib/python3.7/dist-packages/sklearn/model_selection/_split.py:680: UserWarning: The least populated class in y has only 1 members, which is less than n_splits=5.\n",
            "  UserWarning,\n"
          ]
        },
        {
          "output_type": "stream",
          "name": "stdout",
          "text": [
            "text2 >>>\n",
            "0.7955\n",
            "0.023259406699226\n"
          ]
        },
        {
          "output_type": "stream",
          "name": "stderr",
          "text": [
            "/usr/local/lib/python3.7/dist-packages/sklearn/model_selection/_split.py:680: UserWarning: The least populated class in y has only 1 members, which is less than n_splits=5.\n",
            "  UserWarning,\n"
          ]
        },
        {
          "output_type": "stream",
          "name": "stdout",
          "text": [
            "text5_l >>>\n",
            "0.8035\n",
            "0.02332380757938119\n"
          ]
        }
      ]
    },
    {
      "cell_type": "code",
      "source": [
        "for cnt in range(1,5):\n",
        "  pipe=Pipeline([('input',ColumnTransformer([\n",
        "               ('text1',CountVectorizer(ngram_range=(1, cnt),analyzer='word',max_df=0.5,min_df=1),'text5_l'),               \n",
        "               ])),\n",
        "               ('transformer',TfidfTransformer()),\n",
        "               ('classifier',LinearSVC(C=1.0,class_weight='balanced'))])\n",
        "  est=cross_val_score(pipe,train,train['Категория'])\n",
        "  print('1:',cnt,'>>>')\n",
        "  print(est.mean())\n",
        "  print(est.std())"
      ],
      "metadata": {
        "colab": {
          "base_uri": "https://localhost:8080/"
        },
        "id": "7hdjK4fxAKxA",
        "outputId": "c394a58f-bfc2-40c0-b9d5-48abd022871f"
      },
      "execution_count": null,
      "outputs": [
        {
          "output_type": "stream",
          "name": "stderr",
          "text": [
            "/usr/local/lib/python3.7/dist-packages/sklearn/model_selection/_split.py:680: UserWarning: The least populated class in y has only 1 members, which is less than n_splits=5.\n",
            "  UserWarning,\n"
          ]
        },
        {
          "output_type": "stream",
          "name": "stdout",
          "text": [
            "1: 1 >>>\n",
            "0.807\n",
            "0.01698528775146302\n"
          ]
        },
        {
          "output_type": "stream",
          "name": "stderr",
          "text": [
            "/usr/local/lib/python3.7/dist-packages/sklearn/model_selection/_split.py:680: UserWarning: The least populated class in y has only 1 members, which is less than n_splits=5.\n",
            "  UserWarning,\n"
          ]
        },
        {
          "output_type": "stream",
          "name": "stdout",
          "text": [
            "1: 2 >>>\n",
            "0.8065\n",
            "0.011467344941179696\n"
          ]
        },
        {
          "output_type": "stream",
          "name": "stderr",
          "text": [
            "/usr/local/lib/python3.7/dist-packages/sklearn/model_selection/_split.py:680: UserWarning: The least populated class in y has only 1 members, which is less than n_splits=5.\n",
            "  UserWarning,\n"
          ]
        },
        {
          "output_type": "stream",
          "name": "stdout",
          "text": [
            "1: 3 >>>\n",
            "0.8\n",
            "0.013601470508735456\n"
          ]
        },
        {
          "output_type": "stream",
          "name": "stderr",
          "text": [
            "/usr/local/lib/python3.7/dist-packages/sklearn/model_selection/_split.py:680: UserWarning: The least populated class in y has only 1 members, which is less than n_splits=5.\n",
            "  UserWarning,\n"
          ]
        },
        {
          "output_type": "stream",
          "name": "stdout",
          "text": [
            "1: 4 >>>\n",
            "0.795\n",
            "0.012942179105544783\n"
          ]
        }
      ]
    },
    {
      "cell_type": "code",
      "source": [
        "for cnt in ['text', 'text2']:\n",
        "  pipe=Pipeline([('input',ColumnTransformer([\n",
        "               ('text1',CountVectorizer(ngram_range=(1, 8),analyzer='char_wb',max_df=0.5,min_df=1),cnt),\n",
        "               ('text2',CountVectorizer(ngram_range=(1, 8),analyzer='char',max_df=0.5,min_df=1),cnt),\n",
        "               ('text3',CountVectorizer(ngram_range=(1, 2),analyzer='word',max_df=0.5,min_df=2),cnt)               \n",
        "               ])),\n",
        "               ('transformer',TfidfTransformer()),\n",
        "               ('classifier',LinearSVC(C=1.0,class_weight='balanced'))])\n",
        "  est=cross_val_score(pipe,train,train['Категория'])\n",
        "  print(cnt,'>>>')\n",
        "  print(est.mean())\n",
        "  print(est.std())"
      ],
      "metadata": {
        "colab": {
          "base_uri": "https://localhost:8080/"
        },
        "id": "lBPwukR96tc6",
        "outputId": "781abce6-6b73-4858-ef5f-74a51237554d"
      },
      "execution_count": null,
      "outputs": [
        {
          "output_type": "stream",
          "name": "stderr",
          "text": [
            "/usr/local/lib/python3.7/dist-packages/sklearn/model_selection/_split.py:680: UserWarning: The least populated class in y has only 1 members, which is less than n_splits=5.\n",
            "  UserWarning,\n"
          ]
        },
        {
          "output_type": "stream",
          "name": "stdout",
          "text": [
            "text >>>\n",
            "0.8195\n",
            "0.007648529270389176\n"
          ]
        },
        {
          "output_type": "stream",
          "name": "stderr",
          "text": [
            "/usr/local/lib/python3.7/dist-packages/sklearn/model_selection/_split.py:680: UserWarning: The least populated class in y has only 1 members, which is less than n_splits=5.\n",
            "  UserWarning,\n"
          ]
        },
        {
          "output_type": "stream",
          "name": "stdout",
          "text": [
            "text2 >>>\n",
            "0.8160000000000001\n",
            "0.011247221879201968\n"
          ]
        }
      ]
    },
    {
      "cell_type": "code",
      "source": [
        "for cnt in ['text', 'text2', 'text3']:\n",
        "  pipe=Pipeline([('input',ColumnTransformer([\n",
        "               ('text1',CountVectorizer(ngram_range=(1, 8),analyzer='char_wb',max_df=0.5,min_df=1),cnt),\n",
        "               ('text2',CountVectorizer(ngram_range=(1, 8),analyzer='char',max_df=0.5,min_df=1),cnt),\n",
        "               ('text3',CountVectorizer(ngram_range=(1, 2),analyzer='word',max_df=0.5,min_df=2),cnt)               \n",
        "               ])),\n",
        "               ('transformer',TfidfTransformer()),\n",
        "               ('classifier',LinearSVC(C=1.0,class_weight='balanced'))])\n",
        "  est=cross_val_score(pipe,train,train['Категория'])\n",
        "  print(cnt,'>>>')\n",
        "  print(est.mean())\n",
        "  print(est.std())"
      ],
      "metadata": {
        "colab": {
          "base_uri": "https://localhost:8080/"
        },
        "id": "232t3iyA-3b-",
        "outputId": "49810bb5-53fb-49a6-9bb0-2ebfc717eb31"
      },
      "execution_count": null,
      "outputs": [
        {
          "output_type": "stream",
          "name": "stderr",
          "text": [
            "/usr/local/lib/python3.7/dist-packages/sklearn/model_selection/_split.py:680: UserWarning: The least populated class in y has only 1 members, which is less than n_splits=5.\n",
            "  UserWarning,\n"
          ]
        },
        {
          "output_type": "stream",
          "name": "stdout",
          "text": [
            "text >>>\n",
            "0.8195\n",
            "0.007648529270389176\n"
          ]
        },
        {
          "output_type": "stream",
          "name": "stderr",
          "text": [
            "/usr/local/lib/python3.7/dist-packages/sklearn/model_selection/_split.py:680: UserWarning: The least populated class in y has only 1 members, which is less than n_splits=5.\n",
            "  UserWarning,\n"
          ]
        },
        {
          "output_type": "stream",
          "name": "stdout",
          "text": [
            "text2 >>>\n",
            "0.8160000000000001\n",
            "0.011247221879201968\n"
          ]
        },
        {
          "output_type": "stream",
          "name": "stderr",
          "text": [
            "/usr/local/lib/python3.7/dist-packages/sklearn/model_selection/_split.py:680: UserWarning: The least populated class in y has only 1 members, which is less than n_splits=5.\n",
            "  UserWarning,\n"
          ]
        },
        {
          "output_type": "stream",
          "name": "stdout",
          "text": [
            "text3 >>>\n",
            "0.8195\n",
            "0.007648529270389176\n"
          ]
        }
      ]
    },
    {
      "cell_type": "code",
      "source": [
        "pipe=Pipeline([('input',ColumnTransformer([\n",
        "               ('text1',CountVectorizer(ngram_range=(1, 8),analyzer='char_wb',max_df=0.5,min_df=1),'text'),\n",
        "               ('text2',CountVectorizer(ngram_range=(1, 8),analyzer='char',max_df=0.5,min_df=1),'text'),\n",
        "               ('text3',CountVectorizer(ngram_range=(1, 2),analyzer='word',max_df=0.5,min_df=1),'text5_l')               \n",
        "               ])),\n",
        "               ('transformer',TfidfTransformer()),\n",
        "               ('classifier',LinearSVC(C=1.0,class_weight='balanced'))])\n",
        "est=cross_val_score(pipe,train,train['Категория'])\n",
        "print(est.mean())\n",
        "print(est.std())"
      ],
      "metadata": {
        "colab": {
          "base_uri": "https://localhost:8080/"
        },
        "id": "ZCNyVabnEoKS",
        "outputId": "a80afca8-cabc-4dab-abed-9db522408d79"
      },
      "execution_count": null,
      "outputs": [
        {
          "output_type": "stream",
          "name": "stderr",
          "text": [
            "/usr/local/lib/python3.7/dist-packages/sklearn/model_selection/_split.py:680: UserWarning: The least populated class in y has only 1 members, which is less than n_splits=5.\n",
            "  UserWarning,\n"
          ]
        },
        {
          "output_type": "stream",
          "name": "stdout",
          "text": [
            "0.8195\n",
            "0.007314369419163902\n"
          ]
        }
      ]
    },
    {
      "cell_type": "code",
      "source": [
        "pipe=Pipeline([('input',ColumnTransformer([\n",
        "               ('text1',CountVectorizer(ngram_range=(1, 8),analyzer='char_wb',max_df=0.5,min_df=1),'text'),\n",
        "               ('text2',CountVectorizer(ngram_range=(1, 8),analyzer='char',max_df=0.5,min_df=1),'text'),\n",
        "               ('text3',CountVectorizer(ngram_range=(1, 2),analyzer='word',max_df=0.5,min_df=1),'text5_l')               \n",
        "               ])),\n",
        "               ('transformer',TfidfTransformer()),\n",
        "               ('featureselection',SelectFromModel(LinearSVC(C=1.0,class_weight='balanced'),threshold='1*mean')),\n",
        "               ('classifier',LinearSVC(C=1.0,class_weight='balanced'))])\n",
        "est=cross_val_score(pipe,train,train['Категория'])\n",
        "print(est.mean())\n",
        "print(est.std())"
      ],
      "metadata": {
        "colab": {
          "base_uri": "https://localhost:8080/"
        },
        "id": "tAEujRNZF7_L",
        "outputId": "2329f300-a9ed-466c-9bba-8532d584d642"
      },
      "execution_count": null,
      "outputs": [
        {
          "output_type": "stream",
          "name": "stderr",
          "text": [
            "/usr/local/lib/python3.7/dist-packages/sklearn/model_selection/_split.py:680: UserWarning: The least populated class in y has only 1 members, which is less than n_splits=5.\n",
            "  UserWarning,\n"
          ]
        },
        {
          "output_type": "stream",
          "name": "stdout",
          "text": [
            "0.8184999999999999\n",
            "0.009027735042633898\n"
          ]
        }
      ]
    },
    {
      "cell_type": "code",
      "source": [
        "pipe=Pipeline([('input',ColumnTransformer([\n",
        "               ('text1',CountVectorizer(ngram_range=(1, 8),analyzer='char_wb',max_df=0.5,min_df=1),'text'),\n",
        "               ('text2',CountVectorizer(ngram_range=(1, 8),analyzer='char',max_df=0.5,min_df=1),'text'),\n",
        "               ('text3',CountVectorizer(ngram_range=(1, 2),analyzer='word',max_df=0.5,min_df=1),'text5_l')               \n",
        "               ])),\n",
        "               ('transformer',TfidfTransformer(norm='l1',smooth_idf=False,\n",
        "                                               sublinear_tf=True)),\n",
        "               ('classifier',LinearSVC(C=1.0,class_weight='balanced'))])\n",
        "est=cross_val_score(pipe,train,train['Категория'])\n",
        "print(est.mean())\n",
        "print(est.std())"
      ],
      "metadata": {
        "colab": {
          "base_uri": "https://localhost:8080/"
        },
        "id": "7-5GVjiEY7cZ",
        "outputId": "476d7c83-151f-43bc-e546-5d95d3b4ea9d"
      },
      "execution_count": null,
      "outputs": [
        {
          "output_type": "stream",
          "name": "stderr",
          "text": [
            "/usr/local/lib/python3.7/dist-packages/sklearn/model_selection/_split.py:680: UserWarning: The least populated class in y has only 1 members, which is less than n_splits=5.\n",
            "  UserWarning,\n",
            "/usr/local/lib/python3.7/dist-packages/sklearn/svm/_base.py:1208: ConvergenceWarning: Liblinear failed to converge, increase the number of iterations.\n",
            "  ConvergenceWarning,\n",
            "/usr/local/lib/python3.7/dist-packages/sklearn/svm/_base.py:1208: ConvergenceWarning: Liblinear failed to converge, increase the number of iterations.\n",
            "  ConvergenceWarning,\n",
            "/usr/local/lib/python3.7/dist-packages/sklearn/svm/_base.py:1208: ConvergenceWarning: Liblinear failed to converge, increase the number of iterations.\n",
            "  ConvergenceWarning,\n",
            "/usr/local/lib/python3.7/dist-packages/sklearn/svm/_base.py:1208: ConvergenceWarning: Liblinear failed to converge, increase the number of iterations.\n",
            "  ConvergenceWarning,\n"
          ]
        },
        {
          "output_type": "stream",
          "name": "stdout",
          "text": [
            "0.485\n",
            "0.003162277660168382\n"
          ]
        }
      ]
    },
    {
      "cell_type": "code",
      "source": [
        "pipe=Pipeline([('input',ColumnTransformer([\n",
        "               ('text1',CountVectorizer(ngram_range=(1, 8),analyzer='char_wb',max_df=0.5,min_df=1),'text'),\n",
        "               ('text2',CountVectorizer(ngram_range=(1, 8),analyzer='char',max_df=0.5,min_df=1),'text'),\n",
        "               ('text3',CountVectorizer(ngram_range=(1, 1),analyzer='word',max_df=0.5,min_df=1),'text5_l')               \n",
        "               ])),\n",
        "               ('transformer',TfidfTransformer(smooth_idf=False)),\n",
        "               ('classifier',LinearSVC(C=1,class_weight='balanced'))])"
      ],
      "metadata": {
        "id": "gUw_gKEpn6K3"
      },
      "execution_count": null,
      "outputs": []
    },
    {
      "cell_type": "code",
      "source": [
        "pipe=Pipeline([('input',ColumnTransformer([\n",
        "               ('text1',CountVectorizer(ngram_range=(1, 8),analyzer='char_wb',max_df=0.5,min_df=1),'text'),\n",
        "               ('text2',CountVectorizer(ngram_range=(1, 8),analyzer='char',max_df=0.5,min_df=1),'text'),\n",
        "               ('text3',CountVectorizer(ngram_range=(1, 1),analyzer='word',max_df=0.5,min_df=1),'text5_l')               \n",
        "               ])),\n",
        "               ('transformer',TfidfTransformer(smooth_idf=False)),\n",
        "               ('classifier',LinearSVC(C=1,class_weight='balanced'))])\n",
        "est=cross_val_score(pipe,train,train['Категория'])\n",
        "print(est.mean())\n",
        "print(est.std())"
      ],
      "metadata": {
        "colab": {
          "base_uri": "https://localhost:8080/"
        },
        "id": "I-gdQ8VUZ_v2",
        "outputId": "d380a180-e352-4275-d040-db61b20af0fd"
      },
      "execution_count": null,
      "outputs": [
        {
          "output_type": "stream",
          "name": "stderr",
          "text": [
            "/usr/local/lib/python3.7/dist-packages/sklearn/model_selection/_split.py:680: UserWarning: The least populated class in y has only 1 members, which is less than n_splits=5.\n",
            "  UserWarning,\n"
          ]
        },
        {
          "output_type": "stream",
          "name": "stdout",
          "text": [
            "0.819\n",
            "0.007000000000000013\n"
          ]
        }
      ]
    },
    {
      "cell_type": "code",
      "source": [
        "pipe=Pipeline([('input',ColumnTransformer([\n",
        "               ('text1',CountVectorizer(ngram_range=(1, 8),analyzer='char_wb',max_df=0.5,min_df=1),'text'),\n",
        "               ('text2',CountVectorizer(ngram_range=(1, 8),analyzer='char',max_df=0.5,min_df=1),'text'),\n",
        "               ])),\n",
        "               ('transformer',TfidfTransformer(smooth_idf=False)),\n",
        "               ('classifier',LinearSVC(C=1,class_weight='balanced'))])\n",
        "est=cross_val_score(pipe,train,train['Категория'])\n",
        "print(est.mean())\n",
        "print(est.std())"
      ],
      "metadata": {
        "colab": {
          "base_uri": "https://localhost:8080/"
        },
        "id": "80ddPUhdfq2w",
        "outputId": "ab920564-7cf2-40ac-b7f8-7835147c2f54"
      },
      "execution_count": null,
      "outputs": [
        {
          "output_type": "stream",
          "name": "stderr",
          "text": [
            "/usr/local/lib/python3.7/dist-packages/sklearn/model_selection/_split.py:680: UserWarning: The least populated class in y has only 1 members, which is less than n_splits=5.\n",
            "  UserWarning,\n"
          ]
        },
        {
          "output_type": "stream",
          "name": "stdout",
          "text": [
            "0.8174999999999999\n",
            "0.005700877125495695\n"
          ]
        }
      ]
    },
    {
      "cell_type": "code",
      "source": [
        "pipe=Pipeline([('input',ColumnTransformer([\n",
        "               ('text1',CountVectorizer(ngram_range=(1, 8),analyzer='char_wb',max_df=0.5,min_df=1),'text'),\n",
        "               ('text2',CountVectorizer(ngram_range=(1, 8),analyzer='char',max_df=0.5,min_df=1),'text'),\n",
        "               ])),\n",
        "               ('transformer',TfidfTransformer(smooth_idf=False)),\n",
        "               ('classifier',LinearSVC(C=1,class_weight='balanced'))])\n",
        "stack=StackingClassifier([('1',pipe)], final_estimator=LinearSVC(class_weight='balanced'),\n",
        "                         stack_method='decision_function')\n",
        "est=cross_val_score(stack,train,train['Категория'])\n",
        "print(est.mean())\n",
        "print(est.std())"
      ],
      "metadata": {
        "id": "bEN9J_HKgj3V"
      },
      "execution_count": null,
      "outputs": []
    },
    {
      "cell_type": "markdown",
      "source": [
        "# CV"
      ],
      "metadata": {
        "id": "kva6B8xq-LuL"
      }
    },
    {
      "cell_type": "code",
      "source": [
        "from sklearn.model_selection import KFold"
      ],
      "metadata": {
        "id": "W0viJKkEy88W"
      },
      "execution_count": 12,
      "outputs": []
    },
    {
      "cell_type": "code",
      "source": [
        "test['Категория']=test['Категория t']"
      ],
      "metadata": {
        "id": "JGDKcN26hh27"
      },
      "execution_count": 14,
      "outputs": []
    },
    {
      "cell_type": "code",
      "source": [
        "pipe=Pipeline([('input',ColumnTransformer([\n",
        "               ('text1',CountVectorizer(ngram_range=(1,7),analyzer='char_wb',max_df=0.3,min_df=2),'text'),\n",
        "               ('text2',CountVectorizer(ngram_range=(1,1),max_df=0.3,min_df=2),'text5_l'),\n",
        "               ])),\n",
        "               ('transformer',TfidfTransformer()),\n",
        "               ('classifier',LinearSVC(C=1, class_weight='balanced'))])\n",
        "test['Категория p']=0\n",
        "cntt=0\n",
        "for cnt in KFold(n_splits=50, random_state=1, shuffle=True).split(test):\n",
        "  pipe.fit(pd.concat((train[train['Категория']!=12][['text','text5_l']],\n",
        "                                    test.iloc[cnt[0]][['text','text5_l']])),\n",
        "                    pd.concat((train[train['Категория']!=12]['Категория'],\n",
        "                                    test['Категория'].iloc[cnt[0]])))\n",
        "  \n",
        "  test['Категория p'].iloc[cnt[1]]=pipe.predict(test.iloc[cnt[1]][['text','text5_l']])\n",
        "  print('>>>',cntt)\n",
        "  cntt+=1"
      ],
      "metadata": {
        "id": "r3hbsXe2_0AA",
        "colab": {
          "base_uri": "https://localhost:8080/"
        },
        "outputId": "a6dc4f2f-250e-4fe0-ab88-8e99bba9615f"
      },
      "execution_count": 15,
      "outputs": [
        {
          "output_type": "stream",
          "name": "stderr",
          "text": [
            "/usr/local/lib/python3.7/dist-packages/pandas/core/indexing.py:1732: SettingWithCopyWarning: \n",
            "A value is trying to be set on a copy of a slice from a DataFrame\n",
            "\n",
            "See the caveats in the documentation: https://pandas.pydata.org/pandas-docs/stable/user_guide/indexing.html#returning-a-view-versus-a-copy\n",
            "  self._setitem_single_block(indexer, value, name)\n"
          ]
        },
        {
          "output_type": "stream",
          "name": "stdout",
          "text": [
            ">>> 0\n"
          ]
        },
        {
          "output_type": "stream",
          "name": "stderr",
          "text": [
            "/usr/local/lib/python3.7/dist-packages/pandas/core/indexing.py:1732: SettingWithCopyWarning: \n",
            "A value is trying to be set on a copy of a slice from a DataFrame\n",
            "\n",
            "See the caveats in the documentation: https://pandas.pydata.org/pandas-docs/stable/user_guide/indexing.html#returning-a-view-versus-a-copy\n",
            "  self._setitem_single_block(indexer, value, name)\n"
          ]
        },
        {
          "output_type": "stream",
          "name": "stdout",
          "text": [
            ">>> 1\n"
          ]
        },
        {
          "output_type": "stream",
          "name": "stderr",
          "text": [
            "/usr/local/lib/python3.7/dist-packages/pandas/core/indexing.py:1732: SettingWithCopyWarning: \n",
            "A value is trying to be set on a copy of a slice from a DataFrame\n",
            "\n",
            "See the caveats in the documentation: https://pandas.pydata.org/pandas-docs/stable/user_guide/indexing.html#returning-a-view-versus-a-copy\n",
            "  self._setitem_single_block(indexer, value, name)\n"
          ]
        },
        {
          "output_type": "stream",
          "name": "stdout",
          "text": [
            ">>> 2\n"
          ]
        },
        {
          "output_type": "stream",
          "name": "stderr",
          "text": [
            "/usr/local/lib/python3.7/dist-packages/pandas/core/indexing.py:1732: SettingWithCopyWarning: \n",
            "A value is trying to be set on a copy of a slice from a DataFrame\n",
            "\n",
            "See the caveats in the documentation: https://pandas.pydata.org/pandas-docs/stable/user_guide/indexing.html#returning-a-view-versus-a-copy\n",
            "  self._setitem_single_block(indexer, value, name)\n"
          ]
        },
        {
          "output_type": "stream",
          "name": "stdout",
          "text": [
            ">>> 3\n"
          ]
        },
        {
          "output_type": "stream",
          "name": "stderr",
          "text": [
            "/usr/local/lib/python3.7/dist-packages/pandas/core/indexing.py:1732: SettingWithCopyWarning: \n",
            "A value is trying to be set on a copy of a slice from a DataFrame\n",
            "\n",
            "See the caveats in the documentation: https://pandas.pydata.org/pandas-docs/stable/user_guide/indexing.html#returning-a-view-versus-a-copy\n",
            "  self._setitem_single_block(indexer, value, name)\n"
          ]
        },
        {
          "output_type": "stream",
          "name": "stdout",
          "text": [
            ">>> 4\n"
          ]
        },
        {
          "output_type": "stream",
          "name": "stderr",
          "text": [
            "/usr/local/lib/python3.7/dist-packages/pandas/core/indexing.py:1732: SettingWithCopyWarning: \n",
            "A value is trying to be set on a copy of a slice from a DataFrame\n",
            "\n",
            "See the caveats in the documentation: https://pandas.pydata.org/pandas-docs/stable/user_guide/indexing.html#returning-a-view-versus-a-copy\n",
            "  self._setitem_single_block(indexer, value, name)\n"
          ]
        },
        {
          "output_type": "stream",
          "name": "stdout",
          "text": [
            ">>> 5\n"
          ]
        },
        {
          "output_type": "stream",
          "name": "stderr",
          "text": [
            "/usr/local/lib/python3.7/dist-packages/pandas/core/indexing.py:1732: SettingWithCopyWarning: \n",
            "A value is trying to be set on a copy of a slice from a DataFrame\n",
            "\n",
            "See the caveats in the documentation: https://pandas.pydata.org/pandas-docs/stable/user_guide/indexing.html#returning-a-view-versus-a-copy\n",
            "  self._setitem_single_block(indexer, value, name)\n"
          ]
        },
        {
          "output_type": "stream",
          "name": "stdout",
          "text": [
            ">>> 6\n"
          ]
        },
        {
          "output_type": "stream",
          "name": "stderr",
          "text": [
            "/usr/local/lib/python3.7/dist-packages/pandas/core/indexing.py:1732: SettingWithCopyWarning: \n",
            "A value is trying to be set on a copy of a slice from a DataFrame\n",
            "\n",
            "See the caveats in the documentation: https://pandas.pydata.org/pandas-docs/stable/user_guide/indexing.html#returning-a-view-versus-a-copy\n",
            "  self._setitem_single_block(indexer, value, name)\n"
          ]
        },
        {
          "output_type": "stream",
          "name": "stdout",
          "text": [
            ">>> 7\n"
          ]
        },
        {
          "output_type": "stream",
          "name": "stderr",
          "text": [
            "/usr/local/lib/python3.7/dist-packages/pandas/core/indexing.py:1732: SettingWithCopyWarning: \n",
            "A value is trying to be set on a copy of a slice from a DataFrame\n",
            "\n",
            "See the caveats in the documentation: https://pandas.pydata.org/pandas-docs/stable/user_guide/indexing.html#returning-a-view-versus-a-copy\n",
            "  self._setitem_single_block(indexer, value, name)\n"
          ]
        },
        {
          "output_type": "stream",
          "name": "stdout",
          "text": [
            ">>> 8\n"
          ]
        },
        {
          "output_type": "stream",
          "name": "stderr",
          "text": [
            "/usr/local/lib/python3.7/dist-packages/pandas/core/indexing.py:1732: SettingWithCopyWarning: \n",
            "A value is trying to be set on a copy of a slice from a DataFrame\n",
            "\n",
            "See the caveats in the documentation: https://pandas.pydata.org/pandas-docs/stable/user_guide/indexing.html#returning-a-view-versus-a-copy\n",
            "  self._setitem_single_block(indexer, value, name)\n"
          ]
        },
        {
          "output_type": "stream",
          "name": "stdout",
          "text": [
            ">>> 9\n"
          ]
        },
        {
          "output_type": "stream",
          "name": "stderr",
          "text": [
            "/usr/local/lib/python3.7/dist-packages/pandas/core/indexing.py:1732: SettingWithCopyWarning: \n",
            "A value is trying to be set on a copy of a slice from a DataFrame\n",
            "\n",
            "See the caveats in the documentation: https://pandas.pydata.org/pandas-docs/stable/user_guide/indexing.html#returning-a-view-versus-a-copy\n",
            "  self._setitem_single_block(indexer, value, name)\n"
          ]
        },
        {
          "output_type": "stream",
          "name": "stdout",
          "text": [
            ">>> 10\n"
          ]
        },
        {
          "output_type": "stream",
          "name": "stderr",
          "text": [
            "/usr/local/lib/python3.7/dist-packages/pandas/core/indexing.py:1732: SettingWithCopyWarning: \n",
            "A value is trying to be set on a copy of a slice from a DataFrame\n",
            "\n",
            "See the caveats in the documentation: https://pandas.pydata.org/pandas-docs/stable/user_guide/indexing.html#returning-a-view-versus-a-copy\n",
            "  self._setitem_single_block(indexer, value, name)\n"
          ]
        },
        {
          "output_type": "stream",
          "name": "stdout",
          "text": [
            ">>> 11\n"
          ]
        },
        {
          "output_type": "stream",
          "name": "stderr",
          "text": [
            "/usr/local/lib/python3.7/dist-packages/pandas/core/indexing.py:1732: SettingWithCopyWarning: \n",
            "A value is trying to be set on a copy of a slice from a DataFrame\n",
            "\n",
            "See the caveats in the documentation: https://pandas.pydata.org/pandas-docs/stable/user_guide/indexing.html#returning-a-view-versus-a-copy\n",
            "  self._setitem_single_block(indexer, value, name)\n"
          ]
        },
        {
          "output_type": "stream",
          "name": "stdout",
          "text": [
            ">>> 12\n"
          ]
        },
        {
          "output_type": "stream",
          "name": "stderr",
          "text": [
            "/usr/local/lib/python3.7/dist-packages/pandas/core/indexing.py:1732: SettingWithCopyWarning: \n",
            "A value is trying to be set on a copy of a slice from a DataFrame\n",
            "\n",
            "See the caveats in the documentation: https://pandas.pydata.org/pandas-docs/stable/user_guide/indexing.html#returning-a-view-versus-a-copy\n",
            "  self._setitem_single_block(indexer, value, name)\n"
          ]
        },
        {
          "output_type": "stream",
          "name": "stdout",
          "text": [
            ">>> 13\n"
          ]
        },
        {
          "output_type": "stream",
          "name": "stderr",
          "text": [
            "/usr/local/lib/python3.7/dist-packages/pandas/core/indexing.py:1732: SettingWithCopyWarning: \n",
            "A value is trying to be set on a copy of a slice from a DataFrame\n",
            "\n",
            "See the caveats in the documentation: https://pandas.pydata.org/pandas-docs/stable/user_guide/indexing.html#returning-a-view-versus-a-copy\n",
            "  self._setitem_single_block(indexer, value, name)\n"
          ]
        },
        {
          "output_type": "stream",
          "name": "stdout",
          "text": [
            ">>> 14\n"
          ]
        },
        {
          "output_type": "stream",
          "name": "stderr",
          "text": [
            "/usr/local/lib/python3.7/dist-packages/pandas/core/indexing.py:1732: SettingWithCopyWarning: \n",
            "A value is trying to be set on a copy of a slice from a DataFrame\n",
            "\n",
            "See the caveats in the documentation: https://pandas.pydata.org/pandas-docs/stable/user_guide/indexing.html#returning-a-view-versus-a-copy\n",
            "  self._setitem_single_block(indexer, value, name)\n"
          ]
        },
        {
          "output_type": "stream",
          "name": "stdout",
          "text": [
            ">>> 15\n"
          ]
        },
        {
          "output_type": "stream",
          "name": "stderr",
          "text": [
            "/usr/local/lib/python3.7/dist-packages/pandas/core/indexing.py:1732: SettingWithCopyWarning: \n",
            "A value is trying to be set on a copy of a slice from a DataFrame\n",
            "\n",
            "See the caveats in the documentation: https://pandas.pydata.org/pandas-docs/stable/user_guide/indexing.html#returning-a-view-versus-a-copy\n",
            "  self._setitem_single_block(indexer, value, name)\n"
          ]
        },
        {
          "output_type": "stream",
          "name": "stdout",
          "text": [
            ">>> 16\n"
          ]
        },
        {
          "output_type": "stream",
          "name": "stderr",
          "text": [
            "/usr/local/lib/python3.7/dist-packages/pandas/core/indexing.py:1732: SettingWithCopyWarning: \n",
            "A value is trying to be set on a copy of a slice from a DataFrame\n",
            "\n",
            "See the caveats in the documentation: https://pandas.pydata.org/pandas-docs/stable/user_guide/indexing.html#returning-a-view-versus-a-copy\n",
            "  self._setitem_single_block(indexer, value, name)\n"
          ]
        },
        {
          "output_type": "stream",
          "name": "stdout",
          "text": [
            ">>> 17\n"
          ]
        },
        {
          "output_type": "stream",
          "name": "stderr",
          "text": [
            "/usr/local/lib/python3.7/dist-packages/pandas/core/indexing.py:1732: SettingWithCopyWarning: \n",
            "A value is trying to be set on a copy of a slice from a DataFrame\n",
            "\n",
            "See the caveats in the documentation: https://pandas.pydata.org/pandas-docs/stable/user_guide/indexing.html#returning-a-view-versus-a-copy\n",
            "  self._setitem_single_block(indexer, value, name)\n"
          ]
        },
        {
          "output_type": "stream",
          "name": "stdout",
          "text": [
            ">>> 18\n"
          ]
        },
        {
          "output_type": "stream",
          "name": "stderr",
          "text": [
            "/usr/local/lib/python3.7/dist-packages/pandas/core/indexing.py:1732: SettingWithCopyWarning: \n",
            "A value is trying to be set on a copy of a slice from a DataFrame\n",
            "\n",
            "See the caveats in the documentation: https://pandas.pydata.org/pandas-docs/stable/user_guide/indexing.html#returning-a-view-versus-a-copy\n",
            "  self._setitem_single_block(indexer, value, name)\n"
          ]
        },
        {
          "output_type": "stream",
          "name": "stdout",
          "text": [
            ">>> 19\n"
          ]
        },
        {
          "output_type": "stream",
          "name": "stderr",
          "text": [
            "/usr/local/lib/python3.7/dist-packages/pandas/core/indexing.py:1732: SettingWithCopyWarning: \n",
            "A value is trying to be set on a copy of a slice from a DataFrame\n",
            "\n",
            "See the caveats in the documentation: https://pandas.pydata.org/pandas-docs/stable/user_guide/indexing.html#returning-a-view-versus-a-copy\n",
            "  self._setitem_single_block(indexer, value, name)\n"
          ]
        },
        {
          "output_type": "stream",
          "name": "stdout",
          "text": [
            ">>> 20\n"
          ]
        },
        {
          "output_type": "stream",
          "name": "stderr",
          "text": [
            "/usr/local/lib/python3.7/dist-packages/pandas/core/indexing.py:1732: SettingWithCopyWarning: \n",
            "A value is trying to be set on a copy of a slice from a DataFrame\n",
            "\n",
            "See the caveats in the documentation: https://pandas.pydata.org/pandas-docs/stable/user_guide/indexing.html#returning-a-view-versus-a-copy\n",
            "  self._setitem_single_block(indexer, value, name)\n"
          ]
        },
        {
          "output_type": "stream",
          "name": "stdout",
          "text": [
            ">>> 21\n"
          ]
        },
        {
          "output_type": "stream",
          "name": "stderr",
          "text": [
            "/usr/local/lib/python3.7/dist-packages/pandas/core/indexing.py:1732: SettingWithCopyWarning: \n",
            "A value is trying to be set on a copy of a slice from a DataFrame\n",
            "\n",
            "See the caveats in the documentation: https://pandas.pydata.org/pandas-docs/stable/user_guide/indexing.html#returning-a-view-versus-a-copy\n",
            "  self._setitem_single_block(indexer, value, name)\n"
          ]
        },
        {
          "output_type": "stream",
          "name": "stdout",
          "text": [
            ">>> 22\n"
          ]
        },
        {
          "output_type": "stream",
          "name": "stderr",
          "text": [
            "/usr/local/lib/python3.7/dist-packages/pandas/core/indexing.py:1732: SettingWithCopyWarning: \n",
            "A value is trying to be set on a copy of a slice from a DataFrame\n",
            "\n",
            "See the caveats in the documentation: https://pandas.pydata.org/pandas-docs/stable/user_guide/indexing.html#returning-a-view-versus-a-copy\n",
            "  self._setitem_single_block(indexer, value, name)\n"
          ]
        },
        {
          "output_type": "stream",
          "name": "stdout",
          "text": [
            ">>> 23\n"
          ]
        },
        {
          "output_type": "stream",
          "name": "stderr",
          "text": [
            "/usr/local/lib/python3.7/dist-packages/pandas/core/indexing.py:1732: SettingWithCopyWarning: \n",
            "A value is trying to be set on a copy of a slice from a DataFrame\n",
            "\n",
            "See the caveats in the documentation: https://pandas.pydata.org/pandas-docs/stable/user_guide/indexing.html#returning-a-view-versus-a-copy\n",
            "  self._setitem_single_block(indexer, value, name)\n"
          ]
        },
        {
          "output_type": "stream",
          "name": "stdout",
          "text": [
            ">>> 24\n"
          ]
        },
        {
          "output_type": "stream",
          "name": "stderr",
          "text": [
            "/usr/local/lib/python3.7/dist-packages/pandas/core/indexing.py:1732: SettingWithCopyWarning: \n",
            "A value is trying to be set on a copy of a slice from a DataFrame\n",
            "\n",
            "See the caveats in the documentation: https://pandas.pydata.org/pandas-docs/stable/user_guide/indexing.html#returning-a-view-versus-a-copy\n",
            "  self._setitem_single_block(indexer, value, name)\n"
          ]
        },
        {
          "output_type": "stream",
          "name": "stdout",
          "text": [
            ">>> 25\n"
          ]
        },
        {
          "output_type": "stream",
          "name": "stderr",
          "text": [
            "/usr/local/lib/python3.7/dist-packages/pandas/core/indexing.py:1732: SettingWithCopyWarning: \n",
            "A value is trying to be set on a copy of a slice from a DataFrame\n",
            "\n",
            "See the caveats in the documentation: https://pandas.pydata.org/pandas-docs/stable/user_guide/indexing.html#returning-a-view-versus-a-copy\n",
            "  self._setitem_single_block(indexer, value, name)\n"
          ]
        },
        {
          "output_type": "stream",
          "name": "stdout",
          "text": [
            ">>> 26\n"
          ]
        },
        {
          "output_type": "stream",
          "name": "stderr",
          "text": [
            "/usr/local/lib/python3.7/dist-packages/pandas/core/indexing.py:1732: SettingWithCopyWarning: \n",
            "A value is trying to be set on a copy of a slice from a DataFrame\n",
            "\n",
            "See the caveats in the documentation: https://pandas.pydata.org/pandas-docs/stable/user_guide/indexing.html#returning-a-view-versus-a-copy\n",
            "  self._setitem_single_block(indexer, value, name)\n"
          ]
        },
        {
          "output_type": "stream",
          "name": "stdout",
          "text": [
            ">>> 27\n"
          ]
        },
        {
          "output_type": "stream",
          "name": "stderr",
          "text": [
            "/usr/local/lib/python3.7/dist-packages/pandas/core/indexing.py:1732: SettingWithCopyWarning: \n",
            "A value is trying to be set on a copy of a slice from a DataFrame\n",
            "\n",
            "See the caveats in the documentation: https://pandas.pydata.org/pandas-docs/stable/user_guide/indexing.html#returning-a-view-versus-a-copy\n",
            "  self._setitem_single_block(indexer, value, name)\n"
          ]
        },
        {
          "output_type": "stream",
          "name": "stdout",
          "text": [
            ">>> 28\n"
          ]
        },
        {
          "output_type": "stream",
          "name": "stderr",
          "text": [
            "/usr/local/lib/python3.7/dist-packages/pandas/core/indexing.py:1732: SettingWithCopyWarning: \n",
            "A value is trying to be set on a copy of a slice from a DataFrame\n",
            "\n",
            "See the caveats in the documentation: https://pandas.pydata.org/pandas-docs/stable/user_guide/indexing.html#returning-a-view-versus-a-copy\n",
            "  self._setitem_single_block(indexer, value, name)\n"
          ]
        },
        {
          "output_type": "stream",
          "name": "stdout",
          "text": [
            ">>> 29\n"
          ]
        },
        {
          "output_type": "stream",
          "name": "stderr",
          "text": [
            "/usr/local/lib/python3.7/dist-packages/pandas/core/indexing.py:1732: SettingWithCopyWarning: \n",
            "A value is trying to be set on a copy of a slice from a DataFrame\n",
            "\n",
            "See the caveats in the documentation: https://pandas.pydata.org/pandas-docs/stable/user_guide/indexing.html#returning-a-view-versus-a-copy\n",
            "  self._setitem_single_block(indexer, value, name)\n"
          ]
        },
        {
          "output_type": "stream",
          "name": "stdout",
          "text": [
            ">>> 30\n"
          ]
        },
        {
          "output_type": "stream",
          "name": "stderr",
          "text": [
            "/usr/local/lib/python3.7/dist-packages/pandas/core/indexing.py:1732: SettingWithCopyWarning: \n",
            "A value is trying to be set on a copy of a slice from a DataFrame\n",
            "\n",
            "See the caveats in the documentation: https://pandas.pydata.org/pandas-docs/stable/user_guide/indexing.html#returning-a-view-versus-a-copy\n",
            "  self._setitem_single_block(indexer, value, name)\n"
          ]
        },
        {
          "output_type": "stream",
          "name": "stdout",
          "text": [
            ">>> 31\n"
          ]
        },
        {
          "output_type": "stream",
          "name": "stderr",
          "text": [
            "/usr/local/lib/python3.7/dist-packages/pandas/core/indexing.py:1732: SettingWithCopyWarning: \n",
            "A value is trying to be set on a copy of a slice from a DataFrame\n",
            "\n",
            "See the caveats in the documentation: https://pandas.pydata.org/pandas-docs/stable/user_guide/indexing.html#returning-a-view-versus-a-copy\n",
            "  self._setitem_single_block(indexer, value, name)\n"
          ]
        },
        {
          "output_type": "stream",
          "name": "stdout",
          "text": [
            ">>> 32\n"
          ]
        },
        {
          "output_type": "stream",
          "name": "stderr",
          "text": [
            "/usr/local/lib/python3.7/dist-packages/pandas/core/indexing.py:1732: SettingWithCopyWarning: \n",
            "A value is trying to be set on a copy of a slice from a DataFrame\n",
            "\n",
            "See the caveats in the documentation: https://pandas.pydata.org/pandas-docs/stable/user_guide/indexing.html#returning-a-view-versus-a-copy\n",
            "  self._setitem_single_block(indexer, value, name)\n"
          ]
        },
        {
          "output_type": "stream",
          "name": "stdout",
          "text": [
            ">>> 33\n"
          ]
        },
        {
          "output_type": "stream",
          "name": "stderr",
          "text": [
            "/usr/local/lib/python3.7/dist-packages/pandas/core/indexing.py:1732: SettingWithCopyWarning: \n",
            "A value is trying to be set on a copy of a slice from a DataFrame\n",
            "\n",
            "See the caveats in the documentation: https://pandas.pydata.org/pandas-docs/stable/user_guide/indexing.html#returning-a-view-versus-a-copy\n",
            "  self._setitem_single_block(indexer, value, name)\n"
          ]
        },
        {
          "output_type": "stream",
          "name": "stdout",
          "text": [
            ">>> 34\n"
          ]
        },
        {
          "output_type": "stream",
          "name": "stderr",
          "text": [
            "/usr/local/lib/python3.7/dist-packages/pandas/core/indexing.py:1732: SettingWithCopyWarning: \n",
            "A value is trying to be set on a copy of a slice from a DataFrame\n",
            "\n",
            "See the caveats in the documentation: https://pandas.pydata.org/pandas-docs/stable/user_guide/indexing.html#returning-a-view-versus-a-copy\n",
            "  self._setitem_single_block(indexer, value, name)\n"
          ]
        },
        {
          "output_type": "stream",
          "name": "stdout",
          "text": [
            ">>> 35\n"
          ]
        },
        {
          "output_type": "stream",
          "name": "stderr",
          "text": [
            "/usr/local/lib/python3.7/dist-packages/pandas/core/indexing.py:1732: SettingWithCopyWarning: \n",
            "A value is trying to be set on a copy of a slice from a DataFrame\n",
            "\n",
            "See the caveats in the documentation: https://pandas.pydata.org/pandas-docs/stable/user_guide/indexing.html#returning-a-view-versus-a-copy\n",
            "  self._setitem_single_block(indexer, value, name)\n"
          ]
        },
        {
          "output_type": "stream",
          "name": "stdout",
          "text": [
            ">>> 36\n"
          ]
        },
        {
          "output_type": "stream",
          "name": "stderr",
          "text": [
            "/usr/local/lib/python3.7/dist-packages/pandas/core/indexing.py:1732: SettingWithCopyWarning: \n",
            "A value is trying to be set on a copy of a slice from a DataFrame\n",
            "\n",
            "See the caveats in the documentation: https://pandas.pydata.org/pandas-docs/stable/user_guide/indexing.html#returning-a-view-versus-a-copy\n",
            "  self._setitem_single_block(indexer, value, name)\n"
          ]
        },
        {
          "output_type": "stream",
          "name": "stdout",
          "text": [
            ">>> 37\n"
          ]
        },
        {
          "output_type": "stream",
          "name": "stderr",
          "text": [
            "/usr/local/lib/python3.7/dist-packages/pandas/core/indexing.py:1732: SettingWithCopyWarning: \n",
            "A value is trying to be set on a copy of a slice from a DataFrame\n",
            "\n",
            "See the caveats in the documentation: https://pandas.pydata.org/pandas-docs/stable/user_guide/indexing.html#returning-a-view-versus-a-copy\n",
            "  self._setitem_single_block(indexer, value, name)\n"
          ]
        },
        {
          "output_type": "stream",
          "name": "stdout",
          "text": [
            ">>> 38\n"
          ]
        },
        {
          "output_type": "stream",
          "name": "stderr",
          "text": [
            "/usr/local/lib/python3.7/dist-packages/pandas/core/indexing.py:1732: SettingWithCopyWarning: \n",
            "A value is trying to be set on a copy of a slice from a DataFrame\n",
            "\n",
            "See the caveats in the documentation: https://pandas.pydata.org/pandas-docs/stable/user_guide/indexing.html#returning-a-view-versus-a-copy\n",
            "  self._setitem_single_block(indexer, value, name)\n"
          ]
        },
        {
          "output_type": "stream",
          "name": "stdout",
          "text": [
            ">>> 39\n"
          ]
        },
        {
          "output_type": "stream",
          "name": "stderr",
          "text": [
            "/usr/local/lib/python3.7/dist-packages/pandas/core/indexing.py:1732: SettingWithCopyWarning: \n",
            "A value is trying to be set on a copy of a slice from a DataFrame\n",
            "\n",
            "See the caveats in the documentation: https://pandas.pydata.org/pandas-docs/stable/user_guide/indexing.html#returning-a-view-versus-a-copy\n",
            "  self._setitem_single_block(indexer, value, name)\n"
          ]
        },
        {
          "output_type": "stream",
          "name": "stdout",
          "text": [
            ">>> 40\n"
          ]
        },
        {
          "output_type": "stream",
          "name": "stderr",
          "text": [
            "/usr/local/lib/python3.7/dist-packages/pandas/core/indexing.py:1732: SettingWithCopyWarning: \n",
            "A value is trying to be set on a copy of a slice from a DataFrame\n",
            "\n",
            "See the caveats in the documentation: https://pandas.pydata.org/pandas-docs/stable/user_guide/indexing.html#returning-a-view-versus-a-copy\n",
            "  self._setitem_single_block(indexer, value, name)\n"
          ]
        },
        {
          "output_type": "stream",
          "name": "stdout",
          "text": [
            ">>> 41\n"
          ]
        },
        {
          "output_type": "stream",
          "name": "stderr",
          "text": [
            "/usr/local/lib/python3.7/dist-packages/pandas/core/indexing.py:1732: SettingWithCopyWarning: \n",
            "A value is trying to be set on a copy of a slice from a DataFrame\n",
            "\n",
            "See the caveats in the documentation: https://pandas.pydata.org/pandas-docs/stable/user_guide/indexing.html#returning-a-view-versus-a-copy\n",
            "  self._setitem_single_block(indexer, value, name)\n"
          ]
        },
        {
          "output_type": "stream",
          "name": "stdout",
          "text": [
            ">>> 42\n"
          ]
        },
        {
          "output_type": "stream",
          "name": "stderr",
          "text": [
            "/usr/local/lib/python3.7/dist-packages/pandas/core/indexing.py:1732: SettingWithCopyWarning: \n",
            "A value is trying to be set on a copy of a slice from a DataFrame\n",
            "\n",
            "See the caveats in the documentation: https://pandas.pydata.org/pandas-docs/stable/user_guide/indexing.html#returning-a-view-versus-a-copy\n",
            "  self._setitem_single_block(indexer, value, name)\n"
          ]
        },
        {
          "output_type": "stream",
          "name": "stdout",
          "text": [
            ">>> 43\n"
          ]
        },
        {
          "output_type": "stream",
          "name": "stderr",
          "text": [
            "/usr/local/lib/python3.7/dist-packages/pandas/core/indexing.py:1732: SettingWithCopyWarning: \n",
            "A value is trying to be set on a copy of a slice from a DataFrame\n",
            "\n",
            "See the caveats in the documentation: https://pandas.pydata.org/pandas-docs/stable/user_guide/indexing.html#returning-a-view-versus-a-copy\n",
            "  self._setitem_single_block(indexer, value, name)\n"
          ]
        },
        {
          "output_type": "stream",
          "name": "stdout",
          "text": [
            ">>> 44\n"
          ]
        },
        {
          "output_type": "stream",
          "name": "stderr",
          "text": [
            "/usr/local/lib/python3.7/dist-packages/pandas/core/indexing.py:1732: SettingWithCopyWarning: \n",
            "A value is trying to be set on a copy of a slice from a DataFrame\n",
            "\n",
            "See the caveats in the documentation: https://pandas.pydata.org/pandas-docs/stable/user_guide/indexing.html#returning-a-view-versus-a-copy\n",
            "  self._setitem_single_block(indexer, value, name)\n"
          ]
        },
        {
          "output_type": "stream",
          "name": "stdout",
          "text": [
            ">>> 45\n"
          ]
        },
        {
          "output_type": "stream",
          "name": "stderr",
          "text": [
            "/usr/local/lib/python3.7/dist-packages/pandas/core/indexing.py:1732: SettingWithCopyWarning: \n",
            "A value is trying to be set on a copy of a slice from a DataFrame\n",
            "\n",
            "See the caveats in the documentation: https://pandas.pydata.org/pandas-docs/stable/user_guide/indexing.html#returning-a-view-versus-a-copy\n",
            "  self._setitem_single_block(indexer, value, name)\n"
          ]
        },
        {
          "output_type": "stream",
          "name": "stdout",
          "text": [
            ">>> 46\n"
          ]
        },
        {
          "output_type": "stream",
          "name": "stderr",
          "text": [
            "/usr/local/lib/python3.7/dist-packages/pandas/core/indexing.py:1732: SettingWithCopyWarning: \n",
            "A value is trying to be set on a copy of a slice from a DataFrame\n",
            "\n",
            "See the caveats in the documentation: https://pandas.pydata.org/pandas-docs/stable/user_guide/indexing.html#returning-a-view-versus-a-copy\n",
            "  self._setitem_single_block(indexer, value, name)\n"
          ]
        },
        {
          "output_type": "stream",
          "name": "stdout",
          "text": [
            ">>> 47\n"
          ]
        },
        {
          "output_type": "stream",
          "name": "stderr",
          "text": [
            "/usr/local/lib/python3.7/dist-packages/pandas/core/indexing.py:1732: SettingWithCopyWarning: \n",
            "A value is trying to be set on a copy of a slice from a DataFrame\n",
            "\n",
            "See the caveats in the documentation: https://pandas.pydata.org/pandas-docs/stable/user_guide/indexing.html#returning-a-view-versus-a-copy\n",
            "  self._setitem_single_block(indexer, value, name)\n"
          ]
        },
        {
          "output_type": "stream",
          "name": "stdout",
          "text": [
            ">>> 48\n",
            ">>> 49\n"
          ]
        },
        {
          "output_type": "stream",
          "name": "stderr",
          "text": [
            "/usr/local/lib/python3.7/dist-packages/pandas/core/indexing.py:1732: SettingWithCopyWarning: \n",
            "A value is trying to be set on a copy of a slice from a DataFrame\n",
            "\n",
            "See the caveats in the documentation: https://pandas.pydata.org/pandas-docs/stable/user_guide/indexing.html#returning-a-view-versus-a-copy\n",
            "  self._setitem_single_block(indexer, value, name)\n"
          ]
        }
      ]
    },
    {
      "cell_type": "code",
      "source": [
        "from sklearn.metrics import accuracy_score"
      ],
      "metadata": {
        "id": "E-5zPGj_Uy8E"
      },
      "execution_count": null,
      "outputs": []
    },
    {
      "cell_type": "code",
      "source": [
        "accuracy_score(test['Категория t'], test['Категория p'])"
      ],
      "metadata": {
        "colab": {
          "base_uri": "https://localhost:8080/"
        },
        "id": "MLWt6hW4U-mI",
        "outputId": "834fa2ba-1d7a-4ea6-a980-5f1cfc324a18"
      },
      "execution_count": 16,
      "outputs": [
        {
          "output_type": "execute_result",
          "data": {
            "text/plain": [
              "0.851"
            ]
          },
          "metadata": {},
          "execution_count": 16
        }
      ]
    },
    {
      "cell_type": "markdown",
      "source": [
        "# К отправке"
      ],
      "metadata": {
        "id": "0e-tMXply_Md"
      }
    },
    {
      "cell_type": "code",
      "source": [
        "set_config(display='diagram')"
      ],
      "metadata": {
        "id": "8XbzOUyIoK-Z"
      },
      "execution_count": 17,
      "outputs": []
    },
    {
      "cell_type": "code",
      "source": [
        "pipe=Pipeline([('input',ColumnTransformer([\n",
        "               ('text1',CountVectorizer(ngram_range=(1,7),analyzer='char_wb',max_df=0.3,min_df=2),'text'),\n",
        "               ('text2',CountVectorizer(ngram_range=(1,1),max_df=0.3,min_df=2),'text5_l'),\n",
        "               ])),\n",
        "               ('transformer',TfidfTransformer()),\n",
        "               ('classifier',LinearSVC(C=1, class_weight='balanced'))])\n",
        "est=cross_val_score(pipe,pd.concat((train[train['Категория']!=12][['text','text5_l']],\n",
        "                                    test[['text','text5_l']])),\n",
        "                    pd.concat((train[train['Категория']!=12]['Категория'],\n",
        "                                    test['Категория'])),cv=20)\n",
        "print(est.mean())\n",
        "print(est.std())"
      ],
      "metadata": {
        "colab": {
          "base_uri": "https://localhost:8080/"
        },
        "id": "tKSFxXncLuiY",
        "outputId": "e3015fde-4a92-4457-9815-b038662bbee6"
      },
      "execution_count": null,
      "outputs": [
        {
          "output_type": "stream",
          "name": "stderr",
          "text": [
            "/usr/local/lib/python3.7/dist-packages/sklearn/model_selection/_split.py:680: UserWarning: The least populated class in y has only 4 members, which is less than n_splits=20.\n",
            "  UserWarning,\n"
          ]
        },
        {
          "output_type": "stream",
          "name": "stdout",
          "text": [
            "0.8359395973154362\n",
            "0.025285085335848126\n"
          ]
        }
      ]
    },
    {
      "cell_type": "code",
      "source": [
        "pipe.fit(pd.concat((train[train['Категория']!=12][['text','text5_l']],\n",
        "                                    test[['text','text5_l']])),\n",
        "                    pd.concat((train[train['Категория']!=12]['Категория'],\n",
        "                                    test['Категория'])))"
      ],
      "metadata": {
        "colab": {
          "base_uri": "https://localhost:8080/",
          "height": 293
        },
        "id": "zuIIDdY7n-2H",
        "outputId": "ae485807-4a7b-4a7e-b64e-29a8bc9f7dc9"
      },
      "execution_count": 18,
      "outputs": [
        {
          "output_type": "execute_result",
          "data": {
            "text/plain": [
              "Pipeline(steps=[('input',\n",
              "                 ColumnTransformer(transformers=[('text1',\n",
              "                                                  CountVectorizer(analyzer='char_wb',\n",
              "                                                                  max_df=0.3,\n",
              "                                                                  min_df=2,\n",
              "                                                                  ngram_range=(1,\n",
              "                                                                               7)),\n",
              "                                                  'text'),\n",
              "                                                 ('text2',\n",
              "                                                  CountVectorizer(max_df=0.3,\n",
              "                                                                  min_df=2),\n",
              "                                                  'text5_l')])),\n",
              "                ('transformer', TfidfTransformer()),\n",
              "                ('classifier', LinearSVC(C=1, class_weight='balanced'))])"
            ],
            "text/html": [
              "<style>#sk-9e256ee1-9e9a-4cca-b01a-c90e3b21f78f {color: black;background-color: white;}#sk-9e256ee1-9e9a-4cca-b01a-c90e3b21f78f pre{padding: 0;}#sk-9e256ee1-9e9a-4cca-b01a-c90e3b21f78f div.sk-toggleable {background-color: white;}#sk-9e256ee1-9e9a-4cca-b01a-c90e3b21f78f label.sk-toggleable__label {cursor: pointer;display: block;width: 100%;margin-bottom: 0;padding: 0.3em;box-sizing: border-box;text-align: center;}#sk-9e256ee1-9e9a-4cca-b01a-c90e3b21f78f label.sk-toggleable__label-arrow:before {content: \"▸\";float: left;margin-right: 0.25em;color: #696969;}#sk-9e256ee1-9e9a-4cca-b01a-c90e3b21f78f label.sk-toggleable__label-arrow:hover:before {color: black;}#sk-9e256ee1-9e9a-4cca-b01a-c90e3b21f78f div.sk-estimator:hover label.sk-toggleable__label-arrow:before {color: black;}#sk-9e256ee1-9e9a-4cca-b01a-c90e3b21f78f div.sk-toggleable__content {max-height: 0;max-width: 0;overflow: hidden;text-align: left;background-color: #f0f8ff;}#sk-9e256ee1-9e9a-4cca-b01a-c90e3b21f78f div.sk-toggleable__content pre {margin: 0.2em;color: black;border-radius: 0.25em;background-color: #f0f8ff;}#sk-9e256ee1-9e9a-4cca-b01a-c90e3b21f78f input.sk-toggleable__control:checked~div.sk-toggleable__content {max-height: 200px;max-width: 100%;overflow: auto;}#sk-9e256ee1-9e9a-4cca-b01a-c90e3b21f78f input.sk-toggleable__control:checked~label.sk-toggleable__label-arrow:before {content: \"▾\";}#sk-9e256ee1-9e9a-4cca-b01a-c90e3b21f78f div.sk-estimator input.sk-toggleable__control:checked~label.sk-toggleable__label {background-color: #d4ebff;}#sk-9e256ee1-9e9a-4cca-b01a-c90e3b21f78f div.sk-label input.sk-toggleable__control:checked~label.sk-toggleable__label {background-color: #d4ebff;}#sk-9e256ee1-9e9a-4cca-b01a-c90e3b21f78f input.sk-hidden--visually {border: 0;clip: rect(1px 1px 1px 1px);clip: rect(1px, 1px, 1px, 1px);height: 1px;margin: -1px;overflow: hidden;padding: 0;position: absolute;width: 1px;}#sk-9e256ee1-9e9a-4cca-b01a-c90e3b21f78f div.sk-estimator {font-family: monospace;background-color: #f0f8ff;border: 1px dotted black;border-radius: 0.25em;box-sizing: border-box;margin-bottom: 0.5em;}#sk-9e256ee1-9e9a-4cca-b01a-c90e3b21f78f div.sk-estimator:hover {background-color: #d4ebff;}#sk-9e256ee1-9e9a-4cca-b01a-c90e3b21f78f div.sk-parallel-item::after {content: \"\";width: 100%;border-bottom: 1px solid gray;flex-grow: 1;}#sk-9e256ee1-9e9a-4cca-b01a-c90e3b21f78f div.sk-label:hover label.sk-toggleable__label {background-color: #d4ebff;}#sk-9e256ee1-9e9a-4cca-b01a-c90e3b21f78f div.sk-serial::before {content: \"\";position: absolute;border-left: 1px solid gray;box-sizing: border-box;top: 2em;bottom: 0;left: 50%;}#sk-9e256ee1-9e9a-4cca-b01a-c90e3b21f78f div.sk-serial {display: flex;flex-direction: column;align-items: center;background-color: white;padding-right: 0.2em;padding-left: 0.2em;}#sk-9e256ee1-9e9a-4cca-b01a-c90e3b21f78f div.sk-item {z-index: 1;}#sk-9e256ee1-9e9a-4cca-b01a-c90e3b21f78f div.sk-parallel {display: flex;align-items: stretch;justify-content: center;background-color: white;}#sk-9e256ee1-9e9a-4cca-b01a-c90e3b21f78f div.sk-parallel::before {content: \"\";position: absolute;border-left: 1px solid gray;box-sizing: border-box;top: 2em;bottom: 0;left: 50%;}#sk-9e256ee1-9e9a-4cca-b01a-c90e3b21f78f div.sk-parallel-item {display: flex;flex-direction: column;position: relative;background-color: white;}#sk-9e256ee1-9e9a-4cca-b01a-c90e3b21f78f div.sk-parallel-item:first-child::after {align-self: flex-end;width: 50%;}#sk-9e256ee1-9e9a-4cca-b01a-c90e3b21f78f div.sk-parallel-item:last-child::after {align-self: flex-start;width: 50%;}#sk-9e256ee1-9e9a-4cca-b01a-c90e3b21f78f div.sk-parallel-item:only-child::after {width: 0;}#sk-9e256ee1-9e9a-4cca-b01a-c90e3b21f78f div.sk-dashed-wrapped {border: 1px dashed gray;margin: 0 0.4em 0.5em 0.4em;box-sizing: border-box;padding-bottom: 0.4em;background-color: white;position: relative;}#sk-9e256ee1-9e9a-4cca-b01a-c90e3b21f78f div.sk-label label {font-family: monospace;font-weight: bold;background-color: white;display: inline-block;line-height: 1.2em;}#sk-9e256ee1-9e9a-4cca-b01a-c90e3b21f78f div.sk-label-container {position: relative;z-index: 2;text-align: center;}#sk-9e256ee1-9e9a-4cca-b01a-c90e3b21f78f div.sk-container {/* jupyter's `normalize.less` sets `[hidden] { display: none; }` but bootstrap.min.css set `[hidden] { display: none !important; }` so we also need the `!important` here to be able to override the default hidden behavior on the sphinx rendered scikit-learn.org. See: https://github.com/scikit-learn/scikit-learn/issues/21755 */display: inline-block !important;position: relative;}#sk-9e256ee1-9e9a-4cca-b01a-c90e3b21f78f div.sk-text-repr-fallback {display: none;}</style><div id=\"sk-9e256ee1-9e9a-4cca-b01a-c90e3b21f78f\" class=\"sk-top-container\"><div class=\"sk-text-repr-fallback\"><pre>Pipeline(steps=[(&#x27;input&#x27;,\n",
              "                 ColumnTransformer(transformers=[(&#x27;text1&#x27;,\n",
              "                                                  CountVectorizer(analyzer=&#x27;char_wb&#x27;,\n",
              "                                                                  max_df=0.3,\n",
              "                                                                  min_df=2,\n",
              "                                                                  ngram_range=(1,\n",
              "                                                                               7)),\n",
              "                                                  &#x27;text&#x27;),\n",
              "                                                 (&#x27;text2&#x27;,\n",
              "                                                  CountVectorizer(max_df=0.3,\n",
              "                                                                  min_df=2),\n",
              "                                                  &#x27;text5_l&#x27;)])),\n",
              "                (&#x27;transformer&#x27;, TfidfTransformer()),\n",
              "                (&#x27;classifier&#x27;, LinearSVC(C=1, class_weight=&#x27;balanced&#x27;))])</pre><b>Please rerun this cell to show the HTML repr or trust the notebook.</b></div><div class=\"sk-container\" hidden><div class=\"sk-item sk-dashed-wrapped\"><div class=\"sk-label-container\"><div class=\"sk-label sk-toggleable\"><input class=\"sk-toggleable__control sk-hidden--visually\" id=\"e2ed3caf-65b6-478c-9ee7-e1e9409d0ac0\" type=\"checkbox\" ><label for=\"e2ed3caf-65b6-478c-9ee7-e1e9409d0ac0\" class=\"sk-toggleable__label sk-toggleable__label-arrow\">Pipeline</label><div class=\"sk-toggleable__content\"><pre>Pipeline(steps=[(&#x27;input&#x27;,\n",
              "                 ColumnTransformer(transformers=[(&#x27;text1&#x27;,\n",
              "                                                  CountVectorizer(analyzer=&#x27;char_wb&#x27;,\n",
              "                                                                  max_df=0.3,\n",
              "                                                                  min_df=2,\n",
              "                                                                  ngram_range=(1,\n",
              "                                                                               7)),\n",
              "                                                  &#x27;text&#x27;),\n",
              "                                                 (&#x27;text2&#x27;,\n",
              "                                                  CountVectorizer(max_df=0.3,\n",
              "                                                                  min_df=2),\n",
              "                                                  &#x27;text5_l&#x27;)])),\n",
              "                (&#x27;transformer&#x27;, TfidfTransformer()),\n",
              "                (&#x27;classifier&#x27;, LinearSVC(C=1, class_weight=&#x27;balanced&#x27;))])</pre></div></div></div><div class=\"sk-serial\"><div class=\"sk-item sk-dashed-wrapped\"><div class=\"sk-label-container\"><div class=\"sk-label sk-toggleable\"><input class=\"sk-toggleable__control sk-hidden--visually\" id=\"a6173e8c-2720-4b6d-aa9e-903f6e2b98eb\" type=\"checkbox\" ><label for=\"a6173e8c-2720-4b6d-aa9e-903f6e2b98eb\" class=\"sk-toggleable__label sk-toggleable__label-arrow\">input: ColumnTransformer</label><div class=\"sk-toggleable__content\"><pre>ColumnTransformer(transformers=[(&#x27;text1&#x27;,\n",
              "                                 CountVectorizer(analyzer=&#x27;char_wb&#x27;, max_df=0.3,\n",
              "                                                 min_df=2, ngram_range=(1, 7)),\n",
              "                                 &#x27;text&#x27;),\n",
              "                                (&#x27;text2&#x27;, CountVectorizer(max_df=0.3, min_df=2),\n",
              "                                 &#x27;text5_l&#x27;)])</pre></div></div></div><div class=\"sk-parallel\"><div class=\"sk-parallel-item\"><div class=\"sk-item\"><div class=\"sk-label-container\"><div class=\"sk-label sk-toggleable\"><input class=\"sk-toggleable__control sk-hidden--visually\" id=\"790418aa-e52b-4001-9b16-306ecf2fb292\" type=\"checkbox\" ><label for=\"790418aa-e52b-4001-9b16-306ecf2fb292\" class=\"sk-toggleable__label sk-toggleable__label-arrow\">text1</label><div class=\"sk-toggleable__content\"><pre>text</pre></div></div></div><div class=\"sk-serial\"><div class=\"sk-item\"><div class=\"sk-estimator sk-toggleable\"><input class=\"sk-toggleable__control sk-hidden--visually\" id=\"39010485-85f7-440b-a848-7467e7a3c343\" type=\"checkbox\" ><label for=\"39010485-85f7-440b-a848-7467e7a3c343\" class=\"sk-toggleable__label sk-toggleable__label-arrow\">CountVectorizer</label><div class=\"sk-toggleable__content\"><pre>CountVectorizer(analyzer=&#x27;char_wb&#x27;, max_df=0.3, min_df=2, ngram_range=(1, 7))</pre></div></div></div></div></div></div><div class=\"sk-parallel-item\"><div class=\"sk-item\"><div class=\"sk-label-container\"><div class=\"sk-label sk-toggleable\"><input class=\"sk-toggleable__control sk-hidden--visually\" id=\"ca00115a-8d7b-4b06-a86c-53c2a540e5c7\" type=\"checkbox\" ><label for=\"ca00115a-8d7b-4b06-a86c-53c2a540e5c7\" class=\"sk-toggleable__label sk-toggleable__label-arrow\">text2</label><div class=\"sk-toggleable__content\"><pre>text5_l</pre></div></div></div><div class=\"sk-serial\"><div class=\"sk-item\"><div class=\"sk-estimator sk-toggleable\"><input class=\"sk-toggleable__control sk-hidden--visually\" id=\"490c33f6-a9c6-41ca-9559-6786bc3b8b0b\" type=\"checkbox\" ><label for=\"490c33f6-a9c6-41ca-9559-6786bc3b8b0b\" class=\"sk-toggleable__label sk-toggleable__label-arrow\">CountVectorizer</label><div class=\"sk-toggleable__content\"><pre>CountVectorizer(max_df=0.3, min_df=2)</pre></div></div></div></div></div></div></div></div><div class=\"sk-item\"><div class=\"sk-estimator sk-toggleable\"><input class=\"sk-toggleable__control sk-hidden--visually\" id=\"70d823ce-5ebb-44ad-8c9a-6547fa868151\" type=\"checkbox\" ><label for=\"70d823ce-5ebb-44ad-8c9a-6547fa868151\" class=\"sk-toggleable__label sk-toggleable__label-arrow\">TfidfTransformer</label><div class=\"sk-toggleable__content\"><pre>TfidfTransformer()</pre></div></div></div><div class=\"sk-item\"><div class=\"sk-estimator sk-toggleable\"><input class=\"sk-toggleable__control sk-hidden--visually\" id=\"71d3b54d-490d-445a-a0ad-780484a1a173\" type=\"checkbox\" ><label for=\"71d3b54d-490d-445a-a0ad-780484a1a173\" class=\"sk-toggleable__label sk-toggleable__label-arrow\">LinearSVC</label><div class=\"sk-toggleable__content\"><pre>LinearSVC(C=1, class_weight=&#x27;balanced&#x27;)</pre></div></div></div></div></div></div></div>"
            ]
          },
          "metadata": {},
          "execution_count": 18
        }
      ]
    },
    {
      "cell_type": "code",
      "source": [
        "from joblib import dump, load"
      ],
      "metadata": {
        "id": "kKj8B-Q1pdqT"
      },
      "execution_count": 19,
      "outputs": []
    },
    {
      "cell_type": "code",
      "source": [
        "dump(pipe, '/content/drive/MyDrive/Kursk/pipe.joblib') "
      ],
      "metadata": {
        "colab": {
          "base_uri": "https://localhost:8080/"
        },
        "id": "MgF9YbiqycLp",
        "outputId": "ccaaf5df-3afe-445a-ae4a-c12d3d32d4f3"
      },
      "execution_count": 20,
      "outputs": [
        {
          "output_type": "execute_result",
          "data": {
            "text/plain": [
              "['/content/drive/MyDrive/Kursk/pipe.joblib']"
            ]
          },
          "metadata": {},
          "execution_count": 20
        }
      ]
    },
    {
      "cell_type": "code",
      "source": [
        "pipe=load('/content/drive/MyDrive/Kursk/pipe1.joblib') "
      ],
      "metadata": {
        "id": "tAbA85xppdY4"
      },
      "execution_count": null,
      "outputs": []
    },
    {
      "cell_type": "code",
      "source": [
        "test['Категория']=pipe.predict(test)"
      ],
      "metadata": {
        "id": "0bilWS-jhIy0"
      },
      "execution_count": null,
      "outputs": []
    },
    {
      "cell_type": "code",
      "source": [
        "test['Категория']=test['Категория p']"
      ],
      "metadata": {
        "id": "-ZhZAtZ_EthR"
      },
      "execution_count": null,
      "outputs": []
    },
    {
      "cell_type": "code",
      "source": [
        "answer=test[['id','Категория']]\n",
        "answer.to_csv('sample_solution.csv',index=False)\n",
        "answer"
      ],
      "metadata": {
        "colab": {
          "base_uri": "https://localhost:8080/",
          "height": 424
        },
        "id": "Q_vu7Y2yiEzu",
        "outputId": "53d13669-7efa-46ad-d717-7b86a881b947"
      },
      "execution_count": null,
      "outputs": [
        {
          "output_type": "execute_result",
          "data": {
            "text/plain": [
              "       id  Категория\n",
              "0     843          3\n",
              "1    1422          3\n",
              "2    2782          3\n",
              "3    2704          3\n",
              "4       1          8\n",
              "..    ...        ...\n",
              "995  2619         16\n",
              "996  2518          3\n",
              "997  2524          0\n",
              "998  1577          4\n",
              "999  2567         10\n",
              "\n",
              "[1000 rows x 2 columns]"
            ],
            "text/html": [
              "\n",
              "  <div id=\"df-1ae16a1d-ec96-465d-aced-99d22a3dd417\">\n",
              "    <div class=\"colab-df-container\">\n",
              "      <div>\n",
              "<style scoped>\n",
              "    .dataframe tbody tr th:only-of-type {\n",
              "        vertical-align: middle;\n",
              "    }\n",
              "\n",
              "    .dataframe tbody tr th {\n",
              "        vertical-align: top;\n",
              "    }\n",
              "\n",
              "    .dataframe thead th {\n",
              "        text-align: right;\n",
              "    }\n",
              "</style>\n",
              "<table border=\"1\" class=\"dataframe\">\n",
              "  <thead>\n",
              "    <tr style=\"text-align: right;\">\n",
              "      <th></th>\n",
              "      <th>id</th>\n",
              "      <th>Категория</th>\n",
              "    </tr>\n",
              "  </thead>\n",
              "  <tbody>\n",
              "    <tr>\n",
              "      <th>0</th>\n",
              "      <td>843</td>\n",
              "      <td>3</td>\n",
              "    </tr>\n",
              "    <tr>\n",
              "      <th>1</th>\n",
              "      <td>1422</td>\n",
              "      <td>3</td>\n",
              "    </tr>\n",
              "    <tr>\n",
              "      <th>2</th>\n",
              "      <td>2782</td>\n",
              "      <td>3</td>\n",
              "    </tr>\n",
              "    <tr>\n",
              "      <th>3</th>\n",
              "      <td>2704</td>\n",
              "      <td>3</td>\n",
              "    </tr>\n",
              "    <tr>\n",
              "      <th>4</th>\n",
              "      <td>1</td>\n",
              "      <td>8</td>\n",
              "    </tr>\n",
              "    <tr>\n",
              "      <th>...</th>\n",
              "      <td>...</td>\n",
              "      <td>...</td>\n",
              "    </tr>\n",
              "    <tr>\n",
              "      <th>995</th>\n",
              "      <td>2619</td>\n",
              "      <td>16</td>\n",
              "    </tr>\n",
              "    <tr>\n",
              "      <th>996</th>\n",
              "      <td>2518</td>\n",
              "      <td>3</td>\n",
              "    </tr>\n",
              "    <tr>\n",
              "      <th>997</th>\n",
              "      <td>2524</td>\n",
              "      <td>0</td>\n",
              "    </tr>\n",
              "    <tr>\n",
              "      <th>998</th>\n",
              "      <td>1577</td>\n",
              "      <td>4</td>\n",
              "    </tr>\n",
              "    <tr>\n",
              "      <th>999</th>\n",
              "      <td>2567</td>\n",
              "      <td>10</td>\n",
              "    </tr>\n",
              "  </tbody>\n",
              "</table>\n",
              "<p>1000 rows × 2 columns</p>\n",
              "</div>\n",
              "      <button class=\"colab-df-convert\" onclick=\"convertToInteractive('df-1ae16a1d-ec96-465d-aced-99d22a3dd417')\"\n",
              "              title=\"Convert this dataframe to an interactive table.\"\n",
              "              style=\"display:none;\">\n",
              "        \n",
              "  <svg xmlns=\"http://www.w3.org/2000/svg\" height=\"24px\"viewBox=\"0 0 24 24\"\n",
              "       width=\"24px\">\n",
              "    <path d=\"M0 0h24v24H0V0z\" fill=\"none\"/>\n",
              "    <path d=\"M18.56 5.44l.94 2.06.94-2.06 2.06-.94-2.06-.94-.94-2.06-.94 2.06-2.06.94zm-11 1L8.5 8.5l.94-2.06 2.06-.94-2.06-.94L8.5 2.5l-.94 2.06-2.06.94zm10 10l.94 2.06.94-2.06 2.06-.94-2.06-.94-.94-2.06-.94 2.06-2.06.94z\"/><path d=\"M17.41 7.96l-1.37-1.37c-.4-.4-.92-.59-1.43-.59-.52 0-1.04.2-1.43.59L10.3 9.45l-7.72 7.72c-.78.78-.78 2.05 0 2.83L4 21.41c.39.39.9.59 1.41.59.51 0 1.02-.2 1.41-.59l7.78-7.78 2.81-2.81c.8-.78.8-2.07 0-2.86zM5.41 20L4 18.59l7.72-7.72 1.47 1.35L5.41 20z\"/>\n",
              "  </svg>\n",
              "      </button>\n",
              "      \n",
              "  <style>\n",
              "    .colab-df-container {\n",
              "      display:flex;\n",
              "      flex-wrap:wrap;\n",
              "      gap: 12px;\n",
              "    }\n",
              "\n",
              "    .colab-df-convert {\n",
              "      background-color: #E8F0FE;\n",
              "      border: none;\n",
              "      border-radius: 50%;\n",
              "      cursor: pointer;\n",
              "      display: none;\n",
              "      fill: #1967D2;\n",
              "      height: 32px;\n",
              "      padding: 0 0 0 0;\n",
              "      width: 32px;\n",
              "    }\n",
              "\n",
              "    .colab-df-convert:hover {\n",
              "      background-color: #E2EBFA;\n",
              "      box-shadow: 0px 1px 2px rgba(60, 64, 67, 0.3), 0px 1px 3px 1px rgba(60, 64, 67, 0.15);\n",
              "      fill: #174EA6;\n",
              "    }\n",
              "\n",
              "    [theme=dark] .colab-df-convert {\n",
              "      background-color: #3B4455;\n",
              "      fill: #D2E3FC;\n",
              "    }\n",
              "\n",
              "    [theme=dark] .colab-df-convert:hover {\n",
              "      background-color: #434B5C;\n",
              "      box-shadow: 0px 1px 3px 1px rgba(0, 0, 0, 0.15);\n",
              "      filter: drop-shadow(0px 1px 2px rgba(0, 0, 0, 0.3));\n",
              "      fill: #FFFFFF;\n",
              "    }\n",
              "  </style>\n",
              "\n",
              "      <script>\n",
              "        const buttonEl =\n",
              "          document.querySelector('#df-1ae16a1d-ec96-465d-aced-99d22a3dd417 button.colab-df-convert');\n",
              "        buttonEl.style.display =\n",
              "          google.colab.kernel.accessAllowed ? 'block' : 'none';\n",
              "\n",
              "        async function convertToInteractive(key) {\n",
              "          const element = document.querySelector('#df-1ae16a1d-ec96-465d-aced-99d22a3dd417');\n",
              "          const dataTable =\n",
              "            await google.colab.kernel.invokeFunction('convertToInteractive',\n",
              "                                                     [key], {});\n",
              "          if (!dataTable) return;\n",
              "\n",
              "          const docLinkHtml = 'Like what you see? Visit the ' +\n",
              "            '<a target=\"_blank\" href=https://colab.research.google.com/notebooks/data_table.ipynb>data table notebook</a>'\n",
              "            + ' to learn more about interactive tables.';\n",
              "          element.innerHTML = '';\n",
              "          dataTable['output_type'] = 'display_data';\n",
              "          await google.colab.output.renderOutput(dataTable, element);\n",
              "          const docLink = document.createElement('div');\n",
              "          docLink.innerHTML = docLinkHtml;\n",
              "          element.appendChild(docLink);\n",
              "        }\n",
              "      </script>\n",
              "    </div>\n",
              "  </div>\n",
              "  "
            ]
          },
          "metadata": {},
          "execution_count": 96
        }
      ]
    }
  ]
}